{
 "cells": [
  {
   "cell_type": "code",
   "execution_count": 2,
   "metadata": {},
   "outputs": [
    {
     "name": "stdout",
     "output_type": "stream",
     "text": [
      "Checking whether there is an H2O instance running at http://localhost:54321..... not found.\n",
      "Attempting to start a local H2O server...\n",
      "  Java Version: openjdk version \"1.8.0_121\"; OpenJDK Runtime Environment (build 1.8.0_121-8u121-b13-0ubuntu1.16.04.2-b13); OpenJDK 64-Bit Server VM (build 25.121-b13, mixed mode)\n",
      "  Starting server from /usr/local/lib/python2.7/dist-packages/h2o/backend/bin/h2o.jar\n",
      "  Ice root: /tmp/tmp6YJ23Y\n",
      "  JVM stdout: /tmp/tmp6YJ23Y/h2o_unknownUser_started_from_python.out\n",
      "  JVM stderr: /tmp/tmp6YJ23Y/h2o_unknownUser_started_from_python.err\n",
      "  Server is running at http://127.0.0.1:54321\n",
      "Connecting to H2O server at http://127.0.0.1:54321... successful.\n"
     ]
    },
    {
     "data": {
      "text/html": [
       "<div style=\"overflow:auto\"><table style=\"width:50%\"><tr><td>H2O cluster uptime:</td>\n",
       "<td>02 secs</td></tr>\n",
       "<tr><td>H2O cluster version:</td>\n",
       "<td>3.10.4.5</td></tr>\n",
       "<tr><td>H2O cluster version age:</td>\n",
       "<td>7 days, 22 hours and 17 minutes </td></tr>\n",
       "<tr><td>H2O cluster name:</td>\n",
       "<td>H2O_from_python_unknownUser_whjscj</td></tr>\n",
       "<tr><td>H2O cluster total nodes:</td>\n",
       "<td>1</td></tr>\n",
       "<tr><td>H2O cluster free memory:</td>\n",
       "<td>1.778 Gb</td></tr>\n",
       "<tr><td>H2O cluster total cores:</td>\n",
       "<td>8</td></tr>\n",
       "<tr><td>H2O cluster allowed cores:</td>\n",
       "<td>2</td></tr>\n",
       "<tr><td>H2O cluster status:</td>\n",
       "<td>accepting new members, healthy</td></tr>\n",
       "<tr><td>H2O connection url:</td>\n",
       "<td>http://127.0.0.1:54321</td></tr>\n",
       "<tr><td>H2O connection proxy:</td>\n",
       "<td>None</td></tr>\n",
       "<tr><td>H2O internal security:</td>\n",
       "<td>False</td></tr>\n",
       "<tr><td>Python version:</td>\n",
       "<td>2.7.12 final</td></tr></table></div>"
      ],
      "text/plain": [
       "--------------------------  ----------------------------------\n",
       "H2O cluster uptime:         02 secs\n",
       "H2O cluster version:        3.10.4.5\n",
       "H2O cluster version age:    7 days, 22 hours and 17 minutes\n",
       "H2O cluster name:           H2O_from_python_unknownUser_whjscj\n",
       "H2O cluster total nodes:    1\n",
       "H2O cluster free memory:    1.778 Gb\n",
       "H2O cluster total cores:    8\n",
       "H2O cluster allowed cores:  2\n",
       "H2O cluster status:         accepting new members, healthy\n",
       "H2O connection url:         http://127.0.0.1:54321\n",
       "H2O connection proxy:\n",
       "H2O internal security:      False\n",
       "Python version:             2.7.12 final\n",
       "--------------------------  ----------------------------------"
      ]
     },
     "metadata": {},
     "output_type": "display_data"
    }
   ],
   "source": [
    "import os\n",
    "from boto.s3.connection import S3Connection\n",
    "from boto.s3.key import Key\n",
    "import h2o\n",
    "import numpy as np\n",
    "import pandas as pd\n",
    "from tabulate import tabulate\n",
    "# initialize the model scoring server\n",
    "h2o.init(nthreads=2,max_mem_size=2, start_h2o=True)"
   ]
  },
  {
   "cell_type": "code",
   "execution_count": 3,
   "metadata": {
    "collapsed": true
   },
   "outputs": [],
   "source": [
    "# function to get files from s3\n",
    "def pull_file_from_s3(key):\n",
    "    def get_bucket():            \n",
    "        access= os.environ['SECRET_ENV_AWS_ACCESS_KEY_BRETT'] \n",
    "        secret= os.environ['SECRET_ENV_AWS_SECRET_KEY_BRETT']\n",
    "        customer = 'demonstration'\n",
    "        conn = S3Connection(access,secret)\n",
    "        b = conn.get_bucket('dsclouddata',validate=False)\n",
    "        return b\n",
    "\n",
    "    s3_bucket = get_bucket()\n",
    "    payload = s3_bucket.get_key(key)\n",
    "    local_file = payload.get_contents_to_filename(key)\n",
    "    return key\n",
    "\n",
    "    \n",
    "# download the model from s3\n",
    "downloaded_model = pull_file_from_s3('gbm_grid_binomial_model_1')  "
   ]
  },
  {
   "cell_type": "code",
   "execution_count": 6,
   "metadata": {
    "collapsed": true
   },
   "outputs": [],
   "source": [
    "def churn_predict(State,AccountLength,AreaCode,Phone,IntlPlan,VMailPlan,VMailMessage,DayMins,DayCalls,DayCharge,EveMins,EveCalls,EveCharge,NightMins,NightCalls,NightCharge,IntlMins,IntlCalls,IntlCharge,CustServCalls):\n",
    "    # connect to the model scoring service\n",
    "    h2o.connect(verbose=False)\n",
    "\n",
    "    # open the downloaded model\n",
    "    ChurnPredictor = h2o.load_model(path=downloaded_model)  \n",
    "\n",
    "    # define a feature vector to evaluate with the model\n",
    "    newData = pd.DataFrame({'State' : State,\n",
    "                            'Account Length' : AccountLength,\n",
    "                            'Area Code' : AreaCode,\n",
    "                            'Phone' : Phone,\n",
    "                            'Int\\'l Plan' : IntlPlan,\n",
    "                            'VMail Plan' : VMailPlan,\n",
    "                            'VMail Message' : VMailMessage,\n",
    "                            'Day Mins' : DayMins,\n",
    "                            'Day Calls' : DayCalls,\n",
    "                            'Day Charge' : DayCharge,\n",
    "                            'Eve Mins' : EveMins,\n",
    "                            'Eve Calls' : EveCalls,\n",
    "                            'Eve Charge' : EveCharge,\n",
    "                            'Night Mins' : NightMins,\n",
    "                            'Night Calls' : NightCalls,\n",
    "                            'Night Charge' : NightCharge,\n",
    "                            'Intl Mins' :IntlMins,\n",
    "                            'Intl Calls' : IntlCalls,\n",
    "                            'Intl Charge' : IntlCharge,\n",
    "                            'CustServ Calls' : CustServCalls}, index=[0])\n",
    "    \n",
    "    # evaluate the feature vector using the model\n",
    "    predictions = ChurnPredictor.predict(h2o.H2OFrame(newData))\n",
    "    predictionsOut = h2o.as_list(predictions, use_pandas=False)\n",
    "    x = tabulate(predictionsOut, tablefmt=\"pipe\") \n",
    "    return x"
   ]
  },
  {
   "cell_type": "code",
   "execution_count": 7,
   "metadata": {},
   "outputs": [
    {
     "name": "stdout",
     "output_type": "stream",
     "text": [
      "Parse progress: |█████████████████████████████████████████████████████████| 100%\n",
      "gbm prediction progress: |████████████████████████████████████████████████| 100%\n"
     ]
    },
    {
     "data": {
      "text/plain": [
       "u'|:--------|:------------------|:-------------------|\\n| predict | Churn             | Retain             |\\n| Churn   | 0.838119836650384 | 0.1618801633496159 |'"
      ]
     },
     "execution_count": 7,
     "metadata": {},
     "output_type": "execute_result"
    }
   ],
   "source": [
    "State = \"KS\"\n",
    "AccountLength = 1 \n",
    "AreaCode = 213\n",
    "Phone = \"362-1234\"\n",
    "IntlPlan = \"no\"\n",
    "VMailPlan = \"no\"\n",
    "VMailMessage = 0\n",
    "DayMins = 0\n",
    "DayCalls = 2\n",
    "DayCharge = 20\n",
    "EveMins = 120\n",
    "EveCalls = 97\n",
    "EveCharge = 7\n",
    "NightMins = 2\n",
    "NightCalls = 7\n",
    "NightCharge = 10\n",
    "IntlMins = 13\n",
    "IntlCalls = 0\n",
    "IntlCharge = 3.67\n",
    "CustServCalls = 4\n",
    "    \n",
    "\n",
    "churn_predict(State,AccountLength,AreaCode,Phone,IntlPlan,VMailPlan,VMailMessage,DayMins,DayCalls,DayCharge,EveMins,EveCalls,EveCharge,NightMins,NightCalls,NightCharge,IntlMins,IntlCalls,IntlCharge,CustServCalls)\n"
   ]
  }
 ],
 "metadata": {
  "kernelspec": {
   "display_name": "Python 2",
   "language": "python",
   "name": "python2"
  },
  "language_info": {
   "codemirror_mode": {
    "name": "ipython",
    "version": 2
   },
   "file_extension": ".py",
   "mimetype": "text/x-python",
   "name": "python",
   "nbconvert_exporter": "python",
   "pygments_lexer": "ipython2",
   "version": "2.7.12"
  }
 },
 "nbformat": 4,
 "nbformat_minor": 2
}
