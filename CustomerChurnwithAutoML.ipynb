{
 "cells": [
  {
   "cell_type": "markdown",
   "metadata": {
    "_datascience": {
     "keep": true,
     "summary": true
    }
   },
   "source": [
    "# Customer Churn Analysis\n",
    "Churn rate, when applied to a customer base, refers to the proportion of contractual customers or subscribers who leave a supplier during a given time period. It is a possible indicator of customer dissatisfaction, cheaper and/or better offers from the competition, more successful sales and/or marketing by the competition, or reasons having to do with the customer life cycle.\n",
    "\n",
    "Churn is closely related to the concept of average customer life time. For example, an annual churn rate of 25 percent implies an average customer life of four years. An annual churn rate of 33 percent implies an average customer life of three years. The churn rate can be minimized by creating barriers which discourage customers to change suppliers (contractual binding periods, use of proprietary technology, value-added services, unique business models, etc.), or through retention activities such as loyalty programs. It is possible to overstate the churn rate, as when a consumer drops the service but then restarts it within the same year. Thus, a clear distinction needs to be made between \"gross churn\", the total number of absolute disconnections, and \"net churn\", the overall loss of subscribers or members. The difference between the two measures is the number of new subscribers or members that have joined during the same period. Suppliers may find that if they offer a loss-leader \"introductory special\", it can lead to a higher churn rate and subscriber abuse, as some subscribers will sign on, let the service lapse, then sign on again to take continuous advantage of current specials. https://en.wikipedia.org/wiki/Churn_rate"
   ]
  },
  {
   "cell_type": "code",
   "execution_count": 20,
   "metadata": {
    "_datascience": {}
   },
   "outputs": [],
   "source": [
    "%%capture\n",
    "%load_ext autoreload\n",
    "%autoreload 2\n",
    "\n",
    "import sys \n",
    "sys.path.append('model_management')\n",
    "\n",
    "from model_management.sklearn_model import SklearnModel\n",
    "import numpy as np\n",
    "import pandas as pd\n",
    "import h2o\n",
    "from h2o.automl import H2OAutoML\n",
    "from __future__ import print_function\n",
    "import pandas_profiling\n",
    "\n",
    "# Suppress unwatned warnings\n",
    "import warnings\n",
    "warnings.filterwarnings('ignore')\n",
    "import logging\n",
    "logging.getLogger(\"requests\").setLevel(logging.WARNING)\n",
    "\n",
    "# Load our favorite visualization library\n",
    "import os\n",
    "import plotly\n",
    "import plotly.plotly as py\n",
    "import plotly.figure_factory as ff\n",
    "import plotly.graph_objs as go\n",
    "import cufflinks as cf\n",
    "plotly.offline.init_notebook_mode(connected=True)\n",
    "\n",
    "# Sign into Plotly with masked, encrypted API key\n",
    "\n",
    "myPlotlyKey = os.environ['SECRET_ENV_BRETTS_PLOTLY_KEY']\n",
    "py.sign_in(username='bretto777',api_key=myPlotlyKey)"
   ]
  },
  {
   "cell_type": "markdown",
   "metadata": {},
   "source": [
    "### Load The Dataset"
   ]
  },
  {
   "cell_type": "code",
   "execution_count": 21,
   "metadata": {
    "_datascience": {
     "keep": false
    },
    "scrolled": false
   },
   "outputs": [
    {
     "data": {
      "text/html": [
       "<div>\n",
       "<style scoped>\n",
       "    .dataframe tbody tr th:only-of-type {\n",
       "        vertical-align: middle;\n",
       "    }\n",
       "\n",
       "    .dataframe tbody tr th {\n",
       "        vertical-align: top;\n",
       "    }\n",
       "\n",
       "    .dataframe thead th {\n",
       "        text-align: right;\n",
       "    }\n",
       "</style>\n",
       "<table border=\"1\" class=\"dataframe\">\n",
       "  <thead>\n",
       "    <tr style=\"text-align: right;\">\n",
       "      <th></th>\n",
       "      <th>State</th>\n",
       "      <th>Account Length</th>\n",
       "      <th>Area Code</th>\n",
       "      <th>Phone</th>\n",
       "      <th>Int'l Plan</th>\n",
       "      <th>VMail Plan</th>\n",
       "      <th>VMail Message</th>\n",
       "      <th>Day Mins</th>\n",
       "      <th>Day Calls</th>\n",
       "      <th>Day Charge</th>\n",
       "      <th>...</th>\n",
       "      <th>Eve Calls</th>\n",
       "      <th>Eve Charge</th>\n",
       "      <th>Night Mins</th>\n",
       "      <th>Night Calls</th>\n",
       "      <th>Night Charge</th>\n",
       "      <th>Intl Mins</th>\n",
       "      <th>Intl Calls</th>\n",
       "      <th>Intl Charge</th>\n",
       "      <th>CustServ Calls</th>\n",
       "      <th>Churn</th>\n",
       "    </tr>\n",
       "  </thead>\n",
       "  <tbody>\n",
       "    <tr>\n",
       "      <th>0</th>\n",
       "      <td>KS</td>\n",
       "      <td>128</td>\n",
       "      <td>415</td>\n",
       "      <td>382-4657</td>\n",
       "      <td>no</td>\n",
       "      <td>yes</td>\n",
       "      <td>25</td>\n",
       "      <td>265.1</td>\n",
       "      <td>110</td>\n",
       "      <td>45.07</td>\n",
       "      <td>...</td>\n",
       "      <td>99</td>\n",
       "      <td>16.78</td>\n",
       "      <td>244.7</td>\n",
       "      <td>91</td>\n",
       "      <td>11.01</td>\n",
       "      <td>10.0</td>\n",
       "      <td>3</td>\n",
       "      <td>2.70</td>\n",
       "      <td>1</td>\n",
       "      <td>False</td>\n",
       "    </tr>\n",
       "    <tr>\n",
       "      <th>1</th>\n",
       "      <td>OH</td>\n",
       "      <td>107</td>\n",
       "      <td>415</td>\n",
       "      <td>371-7191</td>\n",
       "      <td>no</td>\n",
       "      <td>yes</td>\n",
       "      <td>26</td>\n",
       "      <td>161.6</td>\n",
       "      <td>123</td>\n",
       "      <td>27.47</td>\n",
       "      <td>...</td>\n",
       "      <td>103</td>\n",
       "      <td>16.62</td>\n",
       "      <td>254.4</td>\n",
       "      <td>103</td>\n",
       "      <td>11.45</td>\n",
       "      <td>13.7</td>\n",
       "      <td>3</td>\n",
       "      <td>3.70</td>\n",
       "      <td>1</td>\n",
       "      <td>False</td>\n",
       "    </tr>\n",
       "    <tr>\n",
       "      <th>2</th>\n",
       "      <td>NJ</td>\n",
       "      <td>137</td>\n",
       "      <td>415</td>\n",
       "      <td>358-1921</td>\n",
       "      <td>no</td>\n",
       "      <td>no</td>\n",
       "      <td>0</td>\n",
       "      <td>243.4</td>\n",
       "      <td>114</td>\n",
       "      <td>41.38</td>\n",
       "      <td>...</td>\n",
       "      <td>110</td>\n",
       "      <td>10.30</td>\n",
       "      <td>162.6</td>\n",
       "      <td>104</td>\n",
       "      <td>7.32</td>\n",
       "      <td>12.2</td>\n",
       "      <td>5</td>\n",
       "      <td>3.29</td>\n",
       "      <td>0</td>\n",
       "      <td>False</td>\n",
       "    </tr>\n",
       "    <tr>\n",
       "      <th>3</th>\n",
       "      <td>OH</td>\n",
       "      <td>84</td>\n",
       "      <td>408</td>\n",
       "      <td>375-9999</td>\n",
       "      <td>yes</td>\n",
       "      <td>no</td>\n",
       "      <td>0</td>\n",
       "      <td>299.4</td>\n",
       "      <td>71</td>\n",
       "      <td>50.90</td>\n",
       "      <td>...</td>\n",
       "      <td>88</td>\n",
       "      <td>5.26</td>\n",
       "      <td>196.9</td>\n",
       "      <td>89</td>\n",
       "      <td>8.86</td>\n",
       "      <td>6.6</td>\n",
       "      <td>7</td>\n",
       "      <td>1.78</td>\n",
       "      <td>2</td>\n",
       "      <td>False</td>\n",
       "    </tr>\n",
       "    <tr>\n",
       "      <th>4</th>\n",
       "      <td>OK</td>\n",
       "      <td>75</td>\n",
       "      <td>415</td>\n",
       "      <td>330-6626</td>\n",
       "      <td>yes</td>\n",
       "      <td>no</td>\n",
       "      <td>0</td>\n",
       "      <td>166.7</td>\n",
       "      <td>113</td>\n",
       "      <td>28.34</td>\n",
       "      <td>...</td>\n",
       "      <td>122</td>\n",
       "      <td>12.61</td>\n",
       "      <td>186.9</td>\n",
       "      <td>121</td>\n",
       "      <td>8.41</td>\n",
       "      <td>10.1</td>\n",
       "      <td>3</td>\n",
       "      <td>2.73</td>\n",
       "      <td>3</td>\n",
       "      <td>False</td>\n",
       "    </tr>\n",
       "  </tbody>\n",
       "</table>\n",
       "<p>5 rows × 21 columns</p>\n",
       "</div>"
      ],
      "text/plain": [
       "  State  Account Length  Area Code     Phone Int'l Plan VMail Plan  \\\n",
       "0    KS             128        415  382-4657         no        yes   \n",
       "1    OH             107        415  371-7191         no        yes   \n",
       "2    NJ             137        415  358-1921         no         no   \n",
       "3    OH              84        408  375-9999        yes         no   \n",
       "4    OK              75        415  330-6626        yes         no   \n",
       "\n",
       "   VMail Message  Day Mins  Day Calls  Day Charge  ...    Eve Calls  \\\n",
       "0             25     265.1        110       45.07  ...           99   \n",
       "1             26     161.6        123       27.47  ...          103   \n",
       "2              0     243.4        114       41.38  ...          110   \n",
       "3              0     299.4         71       50.90  ...           88   \n",
       "4              0     166.7        113       28.34  ...          122   \n",
       "\n",
       "   Eve Charge  Night Mins  Night Calls  Night Charge  Intl Mins  Intl Calls  \\\n",
       "0       16.78       244.7           91         11.01       10.0           3   \n",
       "1       16.62       254.4          103         11.45       13.7           3   \n",
       "2       10.30       162.6          104          7.32       12.2           5   \n",
       "3        5.26       196.9           89          8.86        6.6           7   \n",
       "4       12.61       186.9          121          8.41       10.1           3   \n",
       "\n",
       "   Intl Charge  CustServ Calls  Churn  \n",
       "0         2.70               1  False  \n",
       "1         3.70               1  False  \n",
       "2         3.29               0  False  \n",
       "3         1.78               2  False  \n",
       "4         2.73               3  False  \n",
       "\n",
       "[5 rows x 21 columns]"
      ]
     },
     "execution_count": 21,
     "metadata": {},
     "output_type": "execute_result"
    }
   ],
   "source": [
    "# Load some data\n",
    "churnDF = pd.read_csv('https://trifactapro.s3.amazonaws.com/churn.csv', delimiter=',')\n",
    "churnDF.head(5)"
   ]
  },
  {
   "cell_type": "code",
   "execution_count": 22,
   "metadata": {
    "scrolled": false
   },
   "outputs": [],
   "source": [
    "#%%capture\n",
    "#pandas_profiling.ProfileReport(churnDF)"
   ]
  },
  {
   "cell_type": "code",
   "execution_count": 23,
   "metadata": {},
   "outputs": [],
   "source": [
    "churnDF[\"Churn\"] = churnDF[\"Churn\"].replace([True, False],[1,0])\n",
    "churnDF[\"Int'l Plan\"] = churnDF[\"Int'l Plan\"].replace([\"no\",\"yes\"],[0,1])\n",
    "churnDF[\"VMail Plan\"] = churnDF[\"VMail Plan\"].replace([\"no\",\"yes\"],[0,1])\n",
    "churnDF.drop([\"State\", \"Area Code\", \"Phone\"], axis=1, inplace=True)\n"
   ]
  },
  {
   "cell_type": "code",
   "execution_count": 24,
   "metadata": {
    "_datascience": {}
   },
   "outputs": [],
   "source": [
    "%%capture\n",
    "\n",
    "#h2o.connect(ip=\"35.225.239.147\")\n",
    "h2o.init(nthreads=1, max_mem_size=\"768m\")"
   ]
  },
  {
   "cell_type": "code",
   "execution_count": 25,
   "metadata": {
    "_datascience": {}
   },
   "outputs": [],
   "source": [
    "%%capture\n",
    "\n",
    "# Split data into training and testing frames\n",
    "\n",
    "from sklearn import cross_validation\n",
    "from sklearn.model_selection import train_test_split\n",
    "\n",
    "training, testing = train_test_split(churnDF, train_size=0.8, stratify=churnDF[\"Churn\"], random_state=9)\n",
    "x_train = training.drop([\"Churn\"], axis = 1)\n",
    "y_train = training[\"Churn\"]\n",
    "x_test = testing.drop([\"Churn\"], axis = 1)\n",
    "y_test = testing[\"Churn\"]\n",
    "train = h2o.H2OFrame(python_obj=training)\n",
    "test = h2o.H2OFrame(python_obj=testing)\n",
    "train[\"Churn\"] = train[\"Churn\"].asfactor()\n",
    "test[\"Churn\"] = test[\"Churn\"].asfactor()\n",
    "# Set predictor and response variables\n",
    "y = \"Churn\"\n",
    "x = train.columns\n",
    "x.remove(y)"
   ]
  },
  {
   "cell_type": "code",
   "execution_count": 26,
   "metadata": {},
   "outputs": [],
   "source": [
    "x_train = x_train.values\n",
    "y_train = y_train.values\n",
    "x_test = x_test.values\n",
    "y_test = y_test.values"
   ]
  },
  {
   "cell_type": "code",
   "execution_count": 43,
   "metadata": {},
   "outputs": [],
   "source": [
    "from sklearn.ensemble import GradientBoostingClassifier\n",
    "gbm3 = GradientBoostingClassifier(n_estimators=200, \n",
    "                                                           learning_rate=.05,\n",
    "                                                           max_depth=3, \n",
    "                                                           random_state=0).fit(x_train,y_train)\n"
   ]
  },
  {
   "cell_type": "code",
   "execution_count": 28,
   "metadata": {},
   "outputs": [],
   "source": [
    "from sklearn.linear_model import LogisticRegression\n",
    "logistic = LogisticRegression().fit(x_train,y_train)"
   ]
  },
  {
   "cell_type": "code",
   "execution_count": 44,
   "metadata": {},
   "outputs": [],
   "source": [
    "\n",
    "model = SklearnModel(model=gbm3,\n",
    "                     problem_class='binary_classification',\n",
    "                     description='GBM, 200 trees, learning rate .05, max depth 3',\n",
    "                     name=\"GBM-3\",\n",
    "                     y_test = y_test,\n",
    "                     x_test = x_test)"
   ]
  },
  {
   "cell_type": "code",
   "execution_count": 45,
   "metadata": {},
   "outputs": [
    {
     "data": {
      "text/plain": [
       "[{'key': 'f1', 'value': 0.7885714285714285},\n",
       " {'key': 'accuracy', 'value': 0.9445277361319341},\n",
       " {'key': 'precision', 'value': 0.8846153846153846},\n",
       " {'key': 'recall', 'value': 0.711340206185567}]"
      ]
     },
     "execution_count": 45,
     "metadata": {},
     "output_type": "execute_result"
    }
   ],
   "source": [
    "model.metrics()"
   ]
  },
  {
   "cell_type": "code",
   "execution_count": 46,
   "metadata": {},
   "outputs": [
    {
     "data": {
      "text/plain": [
       "<Response [200]>"
      ]
     },
     "execution_count": 46,
     "metadata": {},
     "output_type": "execute_result"
    }
   ],
   "source": [
    "model.save()"
   ]
  },
  {
   "cell_type": "markdown",
   "metadata": {
    "_datascience": {
     "keep": true
    }
   },
   "source": [
    "# Automatic Machine Learning\n",
    "\n",
    "The Automatic Machine Learning (AutoML) function automates the supervised machine learning model training process. The current version of AutoML trains and cross-validates a Random Forest, an Extremely-Randomized Forest, a random grid of Gradient Boosting Machines (GBMs), a random grid of Deep Neural Nets, and a Stacked Ensemble of all the models."
   ]
  },
  {
   "cell_type": "code",
   "execution_count": 32,
   "metadata": {},
   "outputs": [],
   "source": [
    "%%capture\n",
    "# Run AutoML until 11 models are built\n",
    "autoModel = H2OAutoML(max_models = 11)\n",
    "autoModel.train(x = x, y = y,\n",
    "          training_frame = train,\n",
    "          validation_frame = test, \n",
    "          leaderboard_frame = test)\n"
   ]
  },
  {
   "cell_type": "markdown",
   "metadata": {},
   "source": [
    "## Leaderboard"
   ]
  },
  {
   "cell_type": "code",
   "execution_count": 33,
   "metadata": {},
   "outputs": [
    {
     "data": {
      "text/html": [
       "<table>\n",
       "<thead>\n",
       "<tr><th>model_id                                             </th><th style=\"text-align: right;\">     auc</th><th style=\"text-align: right;\">  logloss</th></tr>\n",
       "</thead>\n",
       "<tbody>\n",
       "<tr><td>GBM_grid_0_AutoML_20180625_172426_model_3            </td><td style=\"text-align: right;\">0.93223 </td><td style=\"text-align: right;\"> 0.15412 </td></tr>\n",
       "<tr><td>GBM_grid_0_AutoML_20180625_172426_model_5            </td><td style=\"text-align: right;\">0.93053 </td><td style=\"text-align: right;\"> 0.3125  </td></tr>\n",
       "<tr><td>GBM_grid_0_AutoML_20180625_172426_model_0            </td><td style=\"text-align: right;\">0.928902</td><td style=\"text-align: right;\"> 0.154486</td></tr>\n",
       "<tr><td>GBM_grid_0_AutoML_20180625_172426_model_2            </td><td style=\"text-align: right;\">0.924335</td><td style=\"text-align: right;\"> 0.153528</td></tr>\n",
       "<tr><td>GBM_grid_0_AutoML_20180625_172426_model_1            </td><td style=\"text-align: right;\">0.921975</td><td style=\"text-align: right;\"> 0.149383</td></tr>\n",
       "<tr><td>StackedEnsemble_BestOfFamily_0_AutoML_20180625_172426</td><td style=\"text-align: right;\">0.916857</td><td style=\"text-align: right;\"> 0.14852 </td></tr>\n",
       "<tr><td>GBM_grid_0_AutoML_20180625_172426_model_4            </td><td style=\"text-align: right;\">0.916829</td><td style=\"text-align: right;\"> 0.199053</td></tr>\n",
       "<tr><td>StackedEnsemble_AllModels_0_AutoML_20180625_172426   </td><td style=\"text-align: right;\">0.916649</td><td style=\"text-align: right;\"> 0.140807</td></tr>\n",
       "<tr><td>XRT_0_AutoML_20180625_172426                         </td><td style=\"text-align: right;\">0.914551</td><td style=\"text-align: right;\"> 0.556988</td></tr>\n",
       "<tr><td>GBM_grid_0_AutoML_20180625_172426_model_6            </td><td style=\"text-align: right;\">0.913945</td><td style=\"text-align: right;\"> 0.258084</td></tr>\n",
       "</tbody>\n",
       "</table>"
      ]
     },
     "metadata": {},
     "output_type": "display_data"
    },
    {
     "data": {
      "text/plain": []
     },
     "execution_count": 33,
     "metadata": {},
     "output_type": "execute_result"
    }
   ],
   "source": [
    "leaders = autoModel.leaderboard\n",
    "leaders"
   ]
  },
  {
   "cell_type": "markdown",
   "metadata": {
    "_datascience": {
     "keep": true
    }
   },
   "source": [
    "# Variable Importances\n",
    "Below we plot variable importances as reported by the best performing algo in the ensemble."
   ]
  },
  {
   "cell_type": "code",
   "execution_count": 34,
   "metadata": {
    "_datascience": {
     "keep": true,
     "summary": true
    }
   },
   "outputs": [
    {
     "data": {
      "text/html": [
       "<iframe id=\"igraph\" scrolling=\"no\" style=\"border:none;\" seamless=\"seamless\" src=\"https://plot.ly/~bretto777/4174.embed\" height=\"525px\" width=\"100%\"></iframe>"
      ],
      "text/plain": [
       "<plotly.tools.PlotlyDisplay object>"
      ]
     },
     "execution_count": 34,
     "metadata": {},
     "output_type": "execute_result"
    }
   ],
   "source": [
    "importances = h2o.get_model(leaders[2, 0]).varimp(use_pandas=True)\n",
    "importances = importances.loc[:,['variable','relative_importance']].groupby('variable').mean()\n",
    "importances.sort_values(by=\"relative_importance\", ascending=False).iplot(kind='bar', colors='#5AC4F2', theme='white')"
   ]
  },
  {
   "cell_type": "code",
   "execution_count": 35,
   "metadata": {},
   "outputs": [
    {
     "name": "stdout",
     "output_type": "stream",
     "text": [
      "PartialDependencePlot progress: |█████████████████████████████████████████| 100%\n"
     ]
    }
   ],
   "source": [
    "import matplotlib.pyplot as plt\n",
    "plt.figure()\n",
    "bestModel = h2o.get_model(leaders[2, 0])\n",
    "plt = bestModel.partial_plot(data=test, cols=[\"Day Mins\",\"CustServ Calls\",\"Day Charge\"])\n"
   ]
  },
  {
   "cell_type": "markdown",
   "metadata": {
    "_datascience": {
     "keep": true,
     "summary": false
    }
   },
   "source": [
    "# Best Model vs the Base Learners\n",
    "This plot shows the ROC curves for the best models"
   ]
  },
  {
   "cell_type": "code",
   "execution_count": 36,
   "metadata": {},
   "outputs": [
    {
     "data": {
      "text/html": [
       "<iframe id=\"igraph\" scrolling=\"no\" style=\"border:none;\" seamless=\"seamless\" src=\"https://plot.ly/~bretto777/4176.embed\" height=\"575px\" width=\"725px\"></iframe>"
      ],
      "text/plain": [
       "<plotly.tools.PlotlyDisplay object>"
      ]
     },
     "execution_count": 36,
     "metadata": {},
     "output_type": "execute_result"
    }
   ],
   "source": [
    "Model0 = np.array(h2o.get_model(leaders[0,0]).roc(xval=True))\n",
    "Model1 = np.array(h2o.get_model(leaders[1,0]).roc(xval=True))\n",
    "Model2 = np.array(h2o.get_model(leaders[2,0]).roc(xval=True))\n",
    "Model3 = np.array(h2o.get_model(leaders[3,0]).roc(xval=True))\n",
    "Model4 = np.array(h2o.get_model(leaders[4,0]).roc(xval=True))\n",
    "Model5 = np.array(h2o.get_model(leaders[5,0]).roc(xval=True))\n",
    "Model6 = np.array(h2o.get_model(leaders[6,0]).roc(xval=True))\n",
    "Model7 = np.array(h2o.get_model(leaders[7,0]).roc(xval=True))\n",
    "Model8 = np.array(h2o.get_model(leaders[8,0]).roc(xval=True))\n",
    "Model9 = np.array(h2o.get_model(leaders[9,0]).roc(xval=True))\n",
    "\n",
    "layout = go.Layout(autosize=False, width=725, height=575,  xaxis=dict(title='False Positive Rate', titlefont=dict(family='Arial, sans-serif', size=15, color='grey')), \n",
    "                                                           yaxis=dict(title='True Positive Rate', titlefont=dict(family='Arial, sans-serif', size=15, color='grey')))\n",
    "\n",
    "traceChanceLine = go.Scatter(x = [0,1], y = [0,1], mode = 'lines+markers', name = 'chance', line = dict(color = ('rgb(136, 140, 150)'), width = 4, dash = 'dash'))\n",
    "Model0Trace = go.Scatter(x = Model0[0], y = Model0[1], mode = 'lines', name = 'Model 0', line = dict(color = ('rgb(26, 58, 126)'), width = 3))\n",
    "Model1Trace = go.Scatter(x = Model1[0], y = Model1[1], mode = 'lines', name = 'Model 1', line = dict(color = ('rgb(156, 190, 241))'), width = 1))\n",
    "Model2Trace = go.Scatter(x = Model2[0], y = Model2[1], mode = 'lines', name = 'Model 2', line = dict(color = ('rgb(156, 190, 241)'), width = 1))\n",
    "Model3Trace = go.Scatter(x = Model3[0], y = Model3[1], mode = 'lines', name = 'Model 3', line = dict(color = ('rgb(156, 190, 241)'), width = 1))\n",
    "Model4Trace = go.Scatter(x = Model4[0], y = Model4[1], mode = 'lines', name = 'Model 4', line = dict(color = ('rgb(156, 190, 241)'), width = 1))\n",
    "Model5Trace = go.Scatter(x = Model5[0], y = Model5[1], mode = 'lines', name = 'Model 5', line = dict(color = ('rgb(156, 190, 241)'), width = 1))\n",
    "Model6Trace = go.Scatter(x = Model6[0], y = Model6[1], mode = 'lines', name = 'Model 6', line = dict(color = ('rgb(156, 190, 241)'), width = 1))\n",
    "Model7Trace = go.Scatter(x = Model7[0], y = Model7[1], mode = 'lines', name = 'Model 7', line = dict(color = ('rgb(156, 190, 241)'), width = 1))\n",
    "Model8Trace = go.Scatter(x = Model8[0], y = Model8[1], mode = 'lines', name = 'Model 8', line = dict(color = ('rgb(156, 190, 241)'), width = 1))\n",
    "Model9Trace = go.Scatter(x = Model9[0], y = Model9[1], mode = 'lines', name = 'Model 9', line = dict(color = ('rgb(156, 190, 241)'), width = 1))\n",
    "\n",
    "fig = go.Figure(data=[Model0Trace,Model1Trace,Model2Trace,Model3Trace,Model4Trace,Model5Trace,Model6Trace,Model8Trace,Model9Trace,traceChanceLine], layout=layout)\n",
    "\n",
    "py.iplot(fig)"
   ]
  },
  {
   "cell_type": "markdown",
   "metadata": {
    "_datascience": {}
   },
   "source": [
    "# Confusion Matrix"
   ]
  },
  {
   "cell_type": "code",
   "execution_count": 37,
   "metadata": {
    "_datascience": {
     "keep": true
    }
   },
   "outputs": [
    {
     "data": {
      "text/html": [
       "<iframe id=\"igraph\" scrolling=\"no\" style=\"border:none;\" seamless=\"seamless\" src=\"https://plot.ly/~bretto777/4178.embed\" height=\"300px\" width=\"800px\"></iframe>"
      ],
      "text/plain": [
       "<plotly.tools.PlotlyDisplay object>"
      ]
     },
     "execution_count": 37,
     "metadata": {},
     "output_type": "execute_result"
    }
   ],
   "source": [
    "cm = h2o.get_model(leaders[1, 0]).confusion_matrix(xval=True)\n",
    "cm = cm.table.as_data_frame()\n",
    "cm\n",
    "confusionMatrix = ff.create_table(cm)\n",
    "confusionMatrix.layout.height=300\n",
    "confusionMatrix.layout.width=800\n",
    "confusionMatrix.layout.font.size=17\n",
    "py.iplot(confusionMatrix)"
   ]
  },
  {
   "cell_type": "markdown",
   "metadata": {
    "_datascience": {
     "keep": true
    }
   },
   "source": [
    "# Business Impact Matrix\n",
    "\n",
    "Weighting Predictions With a Dollar Value\n",
    "-   Correctly predicting retain: `+$5`\n",
    "-   Correctly predicting churn: `+$75`\n",
    "-   Incorrectly predicting retain: `-$150`\n",
    "-   Incorrectly predicting churn: `-$1.5`\n",
    "\n",
    "    "
   ]
  },
  {
   "cell_type": "code",
   "execution_count": 42,
   "metadata": {
    "_datascience": {
     "keep": true
    }
   },
   "outputs": [
    {
     "data": {
      "text/html": [
       "<iframe id=\"igraph\" scrolling=\"no\" style=\"border:none;\" seamless=\"seamless\" src=\"https://plot.ly/~bretto777/4184.embed\" height=\"300px\" width=\"800px\"></iframe>"
      ],
      "text/plain": [
       "<plotly.tools.PlotlyDisplay object>"
      ]
     },
     "execution_count": 42,
     "metadata": {},
     "output_type": "execute_result"
    }
   ],
   "source": [
    "CorrectPredictChurn = cm.loc[1,'1']\n",
    "CorrectPredictChurnImpact = 75\n",
    "cm1 = CorrectPredictChurn*CorrectPredictChurnImpact\n",
    "\n",
    "IncorrectPredictChurn = cm.loc[1,'0']\n",
    "IncorrectPredictChurnImpact = -5\n",
    "cm2 = IncorrectPredictChurn*IncorrectPredictChurnImpact\n",
    "\n",
    "IncorrectPredictRetain = cm.loc[0,'1']\n",
    "IncorrectPredictRetainImpact = -150\n",
    "cm3 = IncorrectPredictRetain*IncorrectPredictRetainImpact\n",
    "\n",
    "CorrectPredictRetain = cm.loc[0,'0']\n",
    "CorrectPredictRetainImpact = 5\n",
    "cm4 = IncorrectPredictRetain*CorrectPredictRetainImpact\n",
    "\n",
    "\n",
    "data_matrix = [['Business Impact', '($) Predicted Churn', '($) Predicted Retain', '($) Total'],\n",
    "               ['($) Actual Churn', cm1, cm3, '' ],\n",
    "               ['($) Actual Retain', cm2, cm4, ''],\n",
    "               ['($) Total', cm1+cm2, cm3+cm4, cm1+cm2+cm3+cm4]]\n",
    "\n",
    "impactMatrix = ff.create_table(data_matrix, height_constant=20, hoverinfo='weight')\n",
    "impactMatrix.layout.height=300\n",
    "impactMatrix.layout.width=800\n",
    "impactMatrix.layout.font.size=17\n",
    "py.iplot(impactMatrix)"
   ]
  },
  {
   "cell_type": "code",
   "execution_count": null,
   "metadata": {
    "_datascience": {
     "keep": true
    }
   },
   "outputs": [],
   "source": [
    "print(\"Total customers evaluated: 2132\")"
   ]
  },
  {
   "cell_type": "code",
   "execution_count": null,
   "metadata": {
    "_datascience": {
     "keep": true
    }
   },
   "outputs": [],
   "source": [
    "print(\"Total value created by the model: $\" + str(cm1+cm2+cm3+cm4))"
   ]
  },
  {
   "cell_type": "code",
   "execution_count": null,
   "metadata": {
    "_datascience": {
     "keep": true
    },
    "scrolled": true
   },
   "outputs": [],
   "source": [
    "print(\"Total value per customer: $\" +str(round(((cm1+cm2+cm3+cm4)/2132),3)))"
   ]
  },
  {
   "cell_type": "code",
   "execution_count": null,
   "metadata": {},
   "outputs": [],
   "source": [
    "#%%capture\n",
    "# Save the best model\n",
    "\n",
    "#path = h2o.save_model(model=h2o.get_model(leaders[0, 0]), force=True)\n",
    "#os.rename(h2o.get_model(leaders[0, 0]).model_id, \"AutoML-leader\")    "
   ]
  },
  {
   "cell_type": "code",
   "execution_count": null,
   "metadata": {},
   "outputs": [],
   "source": [
    "#%%capture\n",
    "#LoadedEnsemble = h2o.load_model(path=\"AutoML-leader\")\n",
    "#print(LoadedEnsemble)"
   ]
  }
 ],
 "metadata": {
  "_datascience": {
   "notebookId": 608,
   "post_id": "AVs_WCYcdxOghr0gw_3H"
  },
  "anaconda-cloud": {},
  "kernelspec": {
   "display_name": "Python 2",
   "language": "python",
   "name": "python2"
  },
  "language_info": {
   "codemirror_mode": {
    "name": "ipython",
    "version": 2
   },
   "file_extension": ".py",
   "mimetype": "text/x-python",
   "name": "python",
   "nbconvert_exporter": "python",
   "pygments_lexer": "ipython2",
   "version": "2.7.9"
  }
 },
 "nbformat": 4,
 "nbformat_minor": 2
}
