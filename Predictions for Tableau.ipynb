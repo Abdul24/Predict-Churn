{
 "cells": [
  {
   "cell_type": "markdown",
   "metadata": {},
   "source": [
    "# How to Write Python Objects to a Database for use with Tableau"
   ]
  },
  {
   "cell_type": "markdown",
   "metadata": {},
   "source": [
    "## 1. Get Some Data\n",
    "### Start by accessing some data. In this example we read some data as a Pandas dataframe."
   ]
  },
  {
   "cell_type": "code",
   "execution_count": null,
   "metadata": {},
   "outputs": [],
   "source": [
    "import pandas as pd\n",
    "import os\n",
    "s3file = 'https://dsclouddata.s3.amazonaws.com/churn.csv'\n",
    "churnDF = pd.read_csv(s3file, delimiter=',')\n",
    "churnDF.head(5)"
   ]
  },
  {
   "cell_type": "markdown",
   "metadata": {},
   "source": [
    "## 2. Put the Data in a Database\n",
    "### SQLAlechemy supports SQLite, Postgresql, MySQL, Oracle, MS-SQL, Firebird, Sybase and others\n",
    "SQLAlchemy is the Python SQL toolkit and Object Relational Mapper that gives Python users the full power and flexibility of SQL. This example shows how a Python user can connect to a MySQL database, and write a Pandas dataframe as a table in the DB. \n"
   ]
  },
  {
   "cell_type": "code",
   "execution_count": null,
   "metadata": {},
   "outputs": [],
   "source": [
    "# Install MySQLdb, the interface to the popular MySQL database server for Python for use with SQLalchemy\n",
    "!sudo apt-get install python-mysqldb\n",
    "!pip install sqlalchemy"
   ]
  },
  {
   "cell_type": "code",
   "execution_count": null,
   "metadata": {},
   "outputs": [],
   "source": [
    "from sqlalchemy import create_engine\n",
    "\n",
    "mySQL_Username = os.environ['BRETT_MYSQL_USERNAME']\n",
    "mySQL_Password = os.environ['BRETT_MYSQL_PASSWORD']\n",
    "mySQL_IP = os.environ['BRETT_MYSQL_IP']\n",
    "\n",
    "#Create a connection to the MySQL database\n",
    "engine = create_engine(\"mysql+mysqldb://\"+mySQL_Username+\":\"+mySQL_Password+\"@\"+mySQL_IP+\"/customers\")"
   ]
  },
  {
   "cell_type": "markdown",
   "metadata": {},
   "source": [
    "### Write the dataframe as a table called 'account_info'"
   ]
  },
  {
   "cell_type": "code",
   "execution_count": null,
   "metadata": {},
   "outputs": [],
   "source": [
    "# Use Pandas.to_sql to write the dataframe as a database table called 'account_info'. This is a useful way to make \n",
    "# Python data available to external BI tools such as Tableau\n",
    "\n",
    "churnDF.to_sql(con=engine, name='account_info', if_exists='replace')"
   ]
  }
 ],
 "metadata": {
  "kernelspec": {
   "display_name": "Python 2",
   "language": "python",
   "name": "python2"
  },
  "language_info": {
   "codemirror_mode": {
    "name": "ipython",
    "version": 2
   },
   "file_extension": ".py",
   "mimetype": "text/x-python",
   "name": "python",
   "nbconvert_exporter": "python",
   "pygments_lexer": "ipython2",
   "version": "2.7.9"
  }
 },
 "nbformat": 4,
 "nbformat_minor": 2
}
