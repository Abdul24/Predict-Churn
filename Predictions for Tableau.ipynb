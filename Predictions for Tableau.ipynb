{
 "cells": [
  {
   "cell_type": "markdown",
   "metadata": {},
   "source": [
    "# How to Export Data to a Database for Tableau"
   ]
  },
  {
   "cell_type": "markdown",
   "metadata": {},
   "source": [
    "## 1. Get Some Data\n",
    "### Read your data as a Pandas dataframe"
   ]
  },
  {
   "cell_type": "code",
   "execution_count": null,
   "metadata": {},
   "outputs": [],
   "source": [
    "!sudo apt-get install python-mysqldb"
   ]
  },
  {
   "cell_type": "code",
   "execution_count": null,
   "metadata": {},
   "outputs": [],
   "source": [
    "import pandas as pd\n",
    "import os\n",
    "s3file = 'https://dsclouddata.s3.amazonaws.com/churn.csv'\n",
    "churnDF = pd.read_csv(s3file, delimiter=',')\n",
    "churnDF.head(5)"
   ]
  },
  {
   "cell_type": "markdown",
   "metadata": {},
   "source": [
    "## 2. Put the Data in a Database\n",
    "### SQLAlechemy supports SQLite, Postgresql, MySQL, Oracle, MS-SQL, Firebird, Sybase and others"
   ]
  },
  {
   "cell_type": "code",
   "execution_count": null,
   "metadata": {},
   "outputs": [],
   "source": [
    "from sqlalchemy import create_engine\n",
    "\n",
    "mySQL_Username = os.environ['BRETT_MYSQL_USERNAME']\n",
    "mySQL_Password = os.environ['BRETT_MYSQL_PASSWORD']\n",
    "mySQL_IP = os.environ['BRETT_MYSQL_IP']\n",
    "\n",
    "engine = create_engine(\"mysql+mysqldb://\"+mySQL_Username+\":\"+mySQL_Password+\"@\"+mySQL_IP+\"/customers\")\n",
    "# Try Using DataScience.com Environment Variables instead of plain-text credentials"
   ]
  },
  {
   "cell_type": "markdown",
   "metadata": {},
   "source": [
    "### Write the dataframe as a table called 'account_info'"
   ]
  },
  {
   "cell_type": "code",
   "execution_count": null,
   "metadata": {},
   "outputs": [],
   "source": [
    "churnDF.to_sql(con=engine, name='account_info2', if_exists='replace')"
   ]
  }
 ],
 "metadata": {
  "kernelspec": {
   "display_name": "Python 2",
   "language": "python",
   "name": "python2"
  },
  "language_info": {
   "codemirror_mode": {
    "name": "ipython",
    "version": 2
   },
   "file_extension": ".py",
   "mimetype": "text/x-python",
   "name": "python",
   "nbconvert_exporter": "python",
   "pygments_lexer": "ipython2",
   "version": "2.7.9"
  }
 },
 "nbformat": 4,
 "nbformat_minor": 2
}
