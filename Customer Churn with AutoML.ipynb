{
 "cells": [
  {
   "cell_type": "markdown",
   "metadata": {
    "_datascience": {
     "keep": true,
     "summary": true
    }
   },
   "source": [
    "# Customer Churn Analysis\n",
    "Churn rate, when applied to a customer base, refers to the proportion of contractual customers or subscribers who leave a supplier during a given time period. It is a possible indicator of customer dissatisfaction, cheaper and/or better offers from the competition, more successful sales and/or marketing by the competition, or reasons having to do with the customer life cycle.\n",
    "\n",
    "Churn is closely related to the concept of average customer life time. For example, an annual churn rate of 25 percent implies an average customer life of four years. An annual churn rate of 33 percent implies an average customer life of three years. The churn rate can be minimized by creating barriers which discourage customers to change suppliers (contractual binding periods, use of proprietary technology, value-added services, unique business models, etc.), or through retention activities such as loyalty programs. It is possible to overstate the churn rate, as when a consumer drops the service but then restarts it within the same year. Thus, a clear distinction needs to be made between \"gross churn\", the total number of absolute disconnections, and \"net churn\", the overall loss of subscribers or members. The difference between the two measures is the number of new subscribers or members that have joined during the same period. Suppliers may find that if they offer a loss-leader \"introductory special\", it can lead to a higher churn rate and subscriber abuse, as some subscribers will sign on, let the service lapse, then sign on again to take continuous advantage of current specials. https://en.wikipedia.org/wiki/Churn_rate"
   ]
  },
  {
   "cell_type": "code",
   "execution_count": 1,
   "metadata": {
    "_datascience": {}
   },
   "outputs": [],
   "source": [
    "%%capture\n",
    "\n",
    "# Get our favorite packages from PyPI\n",
    "! pip install cufflinks\n",
    "\n",
    "# Import pre-installed packages\n",
    "import numpy as np\n",
    "import pandas as pd\n",
    "\n",
    "# Suppress unwatned warnings\n",
    "import warnings\n",
    "warnings.filterwarnings('ignore')\n",
    "import logging\n",
    "logging.getLogger(\"requests\").setLevel(logging.WARNING)"
   ]
  },
  {
   "cell_type": "code",
   "execution_count": 2,
   "metadata": {
    "_datascience": {}
   },
   "outputs": [
    {
     "data": {
      "text/html": [
       "<script>requirejs.config({paths: { 'plotly': ['https://cdn.plot.ly/plotly-latest.min']},});if(!window.Plotly) {{require(['plotly'],function(plotly) {window.Plotly=plotly;});}}</script>"
      ],
      "text/vnd.plotly.v1+html": [
       "<script>requirejs.config({paths: { 'plotly': ['https://cdn.plot.ly/plotly-latest.min']},});if(!window.Plotly) {{require(['plotly'],function(plotly) {window.Plotly=plotly;});}}</script>"
      ]
     },
     "metadata": {},
     "output_type": "display_data"
    }
   ],
   "source": [
    "# Load our favorite visualization library\n",
    "import os\n",
    "import plotly\n",
    "import plotly.plotly as py\n",
    "import plotly.figure_factory as ff\n",
    "import plotly.graph_objs as go\n",
    "import cufflinks as cf\n",
    "plotly.offline.init_notebook_mode(connected=True)\n",
    "\n",
    "# Sign into Plotly with masked, encrypted API key\n",
    "\n",
    "myPlotlyKey = os.environ['SECRET_ENV_BRETTS_PLOTLY_KEY']\n",
    "py.sign_in(username='bretto777',api_key=myPlotlyKey)\n"
   ]
  },
  {
   "cell_type": "code",
   "execution_count": 3,
   "metadata": {
    "_datascience": {
     "keep": false
    },
    "scrolled": false
   },
   "outputs": [
    {
     "data": {
      "text/html": [
       "<div>\n",
       "<style>\n",
       "    .dataframe thead tr:only-child th {\n",
       "        text-align: right;\n",
       "    }\n",
       "\n",
       "    .dataframe thead th {\n",
       "        text-align: left;\n",
       "    }\n",
       "\n",
       "    .dataframe tbody tr th {\n",
       "        vertical-align: top;\n",
       "    }\n",
       "</style>\n",
       "<table border=\"1\" class=\"dataframe\">\n",
       "  <thead>\n",
       "    <tr style=\"text-align: right;\">\n",
       "      <th></th>\n",
       "      <th>State</th>\n",
       "      <th>Account Length</th>\n",
       "      <th>Area Code</th>\n",
       "      <th>Phone</th>\n",
       "      <th>Int'l Plan</th>\n",
       "      <th>VMail Plan</th>\n",
       "      <th>VMail Message</th>\n",
       "      <th>Day Mins</th>\n",
       "      <th>Day Calls</th>\n",
       "      <th>Day Charge</th>\n",
       "      <th>...</th>\n",
       "      <th>Eve Calls</th>\n",
       "      <th>Eve Charge</th>\n",
       "      <th>Night Mins</th>\n",
       "      <th>Night Calls</th>\n",
       "      <th>Night Charge</th>\n",
       "      <th>Intl Mins</th>\n",
       "      <th>Intl Calls</th>\n",
       "      <th>Intl Charge</th>\n",
       "      <th>CustServ Calls</th>\n",
       "      <th>Churn</th>\n",
       "    </tr>\n",
       "  </thead>\n",
       "  <tbody>\n",
       "    <tr>\n",
       "      <th>0</th>\n",
       "      <td>ND</td>\n",
       "      <td>84</td>\n",
       "      <td>415</td>\n",
       "      <td>400-7253</td>\n",
       "      <td>no</td>\n",
       "      <td>yes</td>\n",
       "      <td>33</td>\n",
       "      <td>159.1</td>\n",
       "      <td>106</td>\n",
       "      <td>27.05</td>\n",
       "      <td>...</td>\n",
       "      <td>101</td>\n",
       "      <td>12.73</td>\n",
       "      <td>213.4</td>\n",
       "      <td>108</td>\n",
       "      <td>9.60</td>\n",
       "      <td>13.0</td>\n",
       "      <td>18</td>\n",
       "      <td>3.51</td>\n",
       "      <td>1</td>\n",
       "      <td>Retain</td>\n",
       "    </tr>\n",
       "    <tr>\n",
       "      <th>1</th>\n",
       "      <td>RI</td>\n",
       "      <td>117</td>\n",
       "      <td>408</td>\n",
       "      <td>370-5042</td>\n",
       "      <td>no</td>\n",
       "      <td>yes</td>\n",
       "      <td>13</td>\n",
       "      <td>207.6</td>\n",
       "      <td>65</td>\n",
       "      <td>35.29</td>\n",
       "      <td>...</td>\n",
       "      <td>77</td>\n",
       "      <td>12.98</td>\n",
       "      <td>232.8</td>\n",
       "      <td>95</td>\n",
       "      <td>10.48</td>\n",
       "      <td>9.7</td>\n",
       "      <td>3</td>\n",
       "      <td>2.62</td>\n",
       "      <td>1</td>\n",
       "      <td>Retain</td>\n",
       "    </tr>\n",
       "    <tr>\n",
       "      <th>2</th>\n",
       "      <td>VA</td>\n",
       "      <td>132</td>\n",
       "      <td>510</td>\n",
       "      <td>343-4696</td>\n",
       "      <td>no</td>\n",
       "      <td>no</td>\n",
       "      <td>0</td>\n",
       "      <td>81.1</td>\n",
       "      <td>86</td>\n",
       "      <td>13.79</td>\n",
       "      <td>...</td>\n",
       "      <td>72</td>\n",
       "      <td>20.84</td>\n",
       "      <td>237.0</td>\n",
       "      <td>115</td>\n",
       "      <td>10.67</td>\n",
       "      <td>10.3</td>\n",
       "      <td>2</td>\n",
       "      <td>2.78</td>\n",
       "      <td>0</td>\n",
       "      <td>Retain</td>\n",
       "    </tr>\n",
       "    <tr>\n",
       "      <th>3</th>\n",
       "      <td>OK</td>\n",
       "      <td>121</td>\n",
       "      <td>408</td>\n",
       "      <td>364-2495</td>\n",
       "      <td>no</td>\n",
       "      <td>yes</td>\n",
       "      <td>31</td>\n",
       "      <td>237.1</td>\n",
       "      <td>63</td>\n",
       "      <td>40.31</td>\n",
       "      <td>...</td>\n",
       "      <td>117</td>\n",
       "      <td>17.48</td>\n",
       "      <td>196.7</td>\n",
       "      <td>85</td>\n",
       "      <td>8.85</td>\n",
       "      <td>10.1</td>\n",
       "      <td>5</td>\n",
       "      <td>2.73</td>\n",
       "      <td>4</td>\n",
       "      <td>Retain</td>\n",
       "    </tr>\n",
       "    <tr>\n",
       "      <th>4</th>\n",
       "      <td>ME</td>\n",
       "      <td>205</td>\n",
       "      <td>510</td>\n",
       "      <td>413-4039</td>\n",
       "      <td>no</td>\n",
       "      <td>yes</td>\n",
       "      <td>24</td>\n",
       "      <td>175.8</td>\n",
       "      <td>139</td>\n",
       "      <td>29.89</td>\n",
       "      <td>...</td>\n",
       "      <td>98</td>\n",
       "      <td>13.18</td>\n",
       "      <td>180.7</td>\n",
       "      <td>64</td>\n",
       "      <td>8.13</td>\n",
       "      <td>7.8</td>\n",
       "      <td>5</td>\n",
       "      <td>2.11</td>\n",
       "      <td>2</td>\n",
       "      <td>Retain</td>\n",
       "    </tr>\n",
       "    <tr>\n",
       "      <th>5</th>\n",
       "      <td>MT</td>\n",
       "      <td>116</td>\n",
       "      <td>415</td>\n",
       "      <td>384-5907</td>\n",
       "      <td>no</td>\n",
       "      <td>yes</td>\n",
       "      <td>35</td>\n",
       "      <td>182.8</td>\n",
       "      <td>122</td>\n",
       "      <td>31.08</td>\n",
       "      <td>...</td>\n",
       "      <td>119</td>\n",
       "      <td>18.08</td>\n",
       "      <td>193.8</td>\n",
       "      <td>103</td>\n",
       "      <td>8.72</td>\n",
       "      <td>11.0</td>\n",
       "      <td>2</td>\n",
       "      <td>2.97</td>\n",
       "      <td>1</td>\n",
       "      <td>Retain</td>\n",
       "    </tr>\n",
       "    <tr>\n",
       "      <th>6</th>\n",
       "      <td>MN</td>\n",
       "      <td>113</td>\n",
       "      <td>408</td>\n",
       "      <td>417-5146</td>\n",
       "      <td>no</td>\n",
       "      <td>no</td>\n",
       "      <td>0</td>\n",
       "      <td>158.9</td>\n",
       "      <td>137</td>\n",
       "      <td>27.01</td>\n",
       "      <td>...</td>\n",
       "      <td>109</td>\n",
       "      <td>20.64</td>\n",
       "      <td>247.8</td>\n",
       "      <td>97</td>\n",
       "      <td>11.15</td>\n",
       "      <td>6.5</td>\n",
       "      <td>4</td>\n",
       "      <td>1.76</td>\n",
       "      <td>0</td>\n",
       "      <td>Retain</td>\n",
       "    </tr>\n",
       "    <tr>\n",
       "      <th>7</th>\n",
       "      <td>MO</td>\n",
       "      <td>74</td>\n",
       "      <td>415</td>\n",
       "      <td>421-2955</td>\n",
       "      <td>no</td>\n",
       "      <td>no</td>\n",
       "      <td>0</td>\n",
       "      <td>172.1</td>\n",
       "      <td>105</td>\n",
       "      <td>29.26</td>\n",
       "      <td>...</td>\n",
       "      <td>99</td>\n",
       "      <td>17.99</td>\n",
       "      <td>182.2</td>\n",
       "      <td>105</td>\n",
       "      <td>8.20</td>\n",
       "      <td>11.6</td>\n",
       "      <td>6</td>\n",
       "      <td>3.13</td>\n",
       "      <td>1</td>\n",
       "      <td>Retain</td>\n",
       "    </tr>\n",
       "    <tr>\n",
       "      <th>8</th>\n",
       "      <td>MI</td>\n",
       "      <td>112</td>\n",
       "      <td>510</td>\n",
       "      <td>420-1383</td>\n",
       "      <td>no</td>\n",
       "      <td>no</td>\n",
       "      <td>0</td>\n",
       "      <td>243.4</td>\n",
       "      <td>77</td>\n",
       "      <td>41.38</td>\n",
       "      <td>...</td>\n",
       "      <td>97</td>\n",
       "      <td>15.48</td>\n",
       "      <td>259.2</td>\n",
       "      <td>94</td>\n",
       "      <td>11.66</td>\n",
       "      <td>12.8</td>\n",
       "      <td>2</td>\n",
       "      <td>3.46</td>\n",
       "      <td>1</td>\n",
       "      <td>Retain</td>\n",
       "    </tr>\n",
       "    <tr>\n",
       "      <th>9</th>\n",
       "      <td>UT</td>\n",
       "      <td>68</td>\n",
       "      <td>415</td>\n",
       "      <td>403-8916</td>\n",
       "      <td>no</td>\n",
       "      <td>no</td>\n",
       "      <td>0</td>\n",
       "      <td>213.9</td>\n",
       "      <td>112</td>\n",
       "      <td>36.36</td>\n",
       "      <td>...</td>\n",
       "      <td>100</td>\n",
       "      <td>22.14</td>\n",
       "      <td>233.8</td>\n",
       "      <td>97</td>\n",
       "      <td>10.52</td>\n",
       "      <td>8.4</td>\n",
       "      <td>3</td>\n",
       "      <td>2.27</td>\n",
       "      <td>1</td>\n",
       "      <td>Churn</td>\n",
       "    </tr>\n",
       "  </tbody>\n",
       "</table>\n",
       "<p>10 rows × 21 columns</p>\n",
       "</div>"
      ],
      "text/plain": [
       "  State  Account Length  Area Code     Phone Int'l Plan VMail Plan  \\\n",
       "0    ND              84        415  400-7253         no        yes   \n",
       "1    RI             117        408  370-5042         no        yes   \n",
       "2    VA             132        510  343-4696         no         no   \n",
       "3    OK             121        408  364-2495         no        yes   \n",
       "4    ME             205        510  413-4039         no        yes   \n",
       "5    MT             116        415  384-5907         no        yes   \n",
       "6    MN             113        408  417-5146         no         no   \n",
       "7    MO              74        415  421-2955         no         no   \n",
       "8    MI             112        510  420-1383         no         no   \n",
       "9    UT              68        415  403-8916         no         no   \n",
       "\n",
       "   VMail Message  Day Mins  Day Calls  Day Charge   ...    Eve Calls  \\\n",
       "0             33     159.1        106       27.05   ...          101   \n",
       "1             13     207.6         65       35.29   ...           77   \n",
       "2              0      81.1         86       13.79   ...           72   \n",
       "3             31     237.1         63       40.31   ...          117   \n",
       "4             24     175.8        139       29.89   ...           98   \n",
       "5             35     182.8        122       31.08   ...          119   \n",
       "6              0     158.9        137       27.01   ...          109   \n",
       "7              0     172.1        105       29.26   ...           99   \n",
       "8              0     243.4         77       41.38   ...           97   \n",
       "9              0     213.9        112       36.36   ...          100   \n",
       "\n",
       "   Eve Charge  Night Mins  Night Calls  Night Charge  Intl Mins  Intl Calls  \\\n",
       "0       12.73       213.4          108          9.60       13.0          18   \n",
       "1       12.98       232.8           95         10.48        9.7           3   \n",
       "2       20.84       237.0          115         10.67       10.3           2   \n",
       "3       17.48       196.7           85          8.85       10.1           5   \n",
       "4       13.18       180.7           64          8.13        7.8           5   \n",
       "5       18.08       193.8          103          8.72       11.0           2   \n",
       "6       20.64       247.8           97         11.15        6.5           4   \n",
       "7       17.99       182.2          105          8.20       11.6           6   \n",
       "8       15.48       259.2           94         11.66       12.8           2   \n",
       "9       22.14       233.8           97         10.52        8.4           3   \n",
       "\n",
       "   Intl Charge  CustServ Calls   Churn  \n",
       "0         3.51               1  Retain  \n",
       "1         2.62               1  Retain  \n",
       "2         2.78               0  Retain  \n",
       "3         2.73               4  Retain  \n",
       "4         2.11               2  Retain  \n",
       "5         2.97               1  Retain  \n",
       "6         1.76               0  Retain  \n",
       "7         3.13               1  Retain  \n",
       "8         3.46               1  Retain  \n",
       "9         2.27               1   Churn  \n",
       "\n",
       "[10 rows x 21 columns]"
      ]
     },
     "execution_count": 3,
     "metadata": {},
     "output_type": "execute_result"
    }
   ],
   "source": [
    "# Load some data\n",
    "churnDF = pd.read_csv('https://s3-us-west-1.amazonaws.com/dsclouddata/home/jupyter/churn_train.csv', delimiter=',')\n",
    "churnDF[\"Churn\"] = churnDF[\"Churn\"].replace(to_replace=False, value='Retain')\n",
    "churnDF[\"Churn\"] = churnDF[\"Churn\"].replace(to_replace=True, value='Churn')\n",
    "churnDFs = churnDF.sample(frac=0.07) # Sample for speedy viz\n",
    "churnDF.head(10)"
   ]
  },
  {
   "cell_type": "code",
   "execution_count": 4,
   "metadata": {
    "_datascience": {
     "keep": true
    }
   },
   "outputs": [
    {
     "data": {
      "text/html": [
       "<iframe id=\"igraph\" scrolling=\"no\" style=\"border:none;\" seamless=\"seamless\" src=\"https://plot.ly/~bretto777/2951.embed\" height=\"560px\" width=\"650px\"></iframe>"
      ],
      "text/plain": [
       "<plotly.tools.PlotlyDisplay object>"
      ]
     },
     "execution_count": 4,
     "metadata": {},
     "output_type": "execute_result"
    }
   ],
   "source": [
    "# separate the calls data for plotting\n",
    "\n",
    "\n",
    "churnDFs = churnDFs[['Account Length','Day Calls','Eve Calls','CustServ Calls','Churn']]\n",
    "\n",
    "# Create scatter plot matrix of call data\n",
    "splom = ff.create_scatterplotmatrix(churnDFs, diag='histogram', index='Churn',  \n",
    "                                  colormap= dict(\n",
    "                                      Churn = '#9CBEF1',\n",
    "                                      Retain = '#04367F'\n",
    "                                      ),\n",
    "                                  colormap_type='cat',\n",
    "                                  height=560, width=650,\n",
    "                                  size=4, marker=dict(symbol='circle'))\n",
    "py.iplot(splom)"
   ]
  },
  {
   "cell_type": "code",
   "execution_count": 8,
   "metadata": {
    "_datascience": {}
   },
   "outputs": [
    {
     "name": "stdout",
     "output_type": "stream",
     "text": [
      "Connecting to H2O server at http://35.196.227.23:54321... successful.\n"
     ]
    },
    {
     "data": {
      "text/html": [
       "<div style=\"overflow:auto\"><table style=\"width:50%\"><tr><td>H2O cluster uptime:</td>\n",
       "<td>7 mins 35 secs</td></tr>\n",
       "<tr><td>H2O cluster version:</td>\n",
       "<td>3.13.0.318</td></tr>\n",
       "<tr><td>H2O cluster version age:</td>\n",
       "<td>4 months and 12 days !!!</td></tr>\n",
       "<tr><td>H2O cluster name:</td>\n",
       "<td>olmsteadbrett</td></tr>\n",
       "<tr><td>H2O cluster total nodes:</td>\n",
       "<td>1</td></tr>\n",
       "<tr><td>H2O cluster free memory:</td>\n",
       "<td>1.606 Gb</td></tr>\n",
       "<tr><td>H2O cluster total cores:</td>\n",
       "<td>2</td></tr>\n",
       "<tr><td>H2O cluster allowed cores:</td>\n",
       "<td>2</td></tr>\n",
       "<tr><td>H2O cluster status:</td>\n",
       "<td>locked, healthy</td></tr>\n",
       "<tr><td>H2O connection url:</td>\n",
       "<td>http://35.196.227.23:54321</td></tr>\n",
       "<tr><td>H2O connection proxy:</td>\n",
       "<td>None</td></tr>\n",
       "<tr><td>H2O internal security:</td>\n",
       "<td>False</td></tr>\n",
       "<tr><td>H2O API Extensions:</td>\n",
       "<td>XGBoost, water.api.RegisterResourceRoots, Core V3, Core V4, Algos, AutoML</td></tr>\n",
       "<tr><td>Python version:</td>\n",
       "<td>2.7.9 final</td></tr></table></div>"
      ],
      "text/plain": [
       "--------------------------  -------------------------------------------------------------------------\n",
       "H2O cluster uptime:         7 mins 35 secs\n",
       "H2O cluster version:        3.13.0.318\n",
       "H2O cluster version age:    4 months and 12 days !!!\n",
       "H2O cluster name:           olmsteadbrett\n",
       "H2O cluster total nodes:    1\n",
       "H2O cluster free memory:    1.606 Gb\n",
       "H2O cluster total cores:    2\n",
       "H2O cluster allowed cores:  2\n",
       "H2O cluster status:         locked, healthy\n",
       "H2O connection url:         http://35.196.227.23:54321\n",
       "H2O connection proxy:\n",
       "H2O internal security:      False\n",
       "H2O API Extensions:         XGBoost, water.api.RegisterResourceRoots, Core V3, Core V4, Algos, AutoML\n",
       "Python version:             2.7.9 final\n",
       "--------------------------  -------------------------------------------------------------------------"
      ]
     },
     "metadata": {},
     "output_type": "display_data"
    },
    {
     "data": {
      "text/plain": [
       "<H2OConnection to http://35.196.227.23:54321, session _sid_b5bf>"
      ]
     },
     "execution_count": 8,
     "metadata": {},
     "output_type": "execute_result"
    }
   ],
   "source": [
    "\n",
    "import h2o\n",
    "from h2o.automl import H2OAutoML\n",
    "from __future__ import print_function\n",
    "h2o.connect(ip=\"35.196.227.23\")"
   ]
  },
  {
   "cell_type": "code",
   "execution_count": 6,
   "metadata": {
    "_datascience": {}
   },
   "outputs": [
    {
     "name": "stderr",
     "output_type": "stream",
     "text": [
      "/usr/local/lib/python2.7/dist-packages/sklearn/cross_validation.py:41: DeprecationWarning:\n",
      "\n",
      "This module was deprecated in version 0.18 in favor of the model_selection module into which all the refactored classes and functions are moved. Also note that the interface of the new CV iterators are different from that of this module. This module will be removed in 0.20.\n",
      "\n"
     ]
    },
    {
     "name": "stdout",
     "output_type": "stream",
     "text": [
      "Parse progress: |█████████████████████████████████████████████████████████| 100%\n",
      "Parse progress: |█████████████████████████████████████████████████████████| 100%\n"
     ]
    }
   ],
   "source": [
    "# Split data into training and testing frames\n",
    "\n",
    "from sklearn import cross_validation\n",
    "from sklearn.model_selection import train_test_split\n",
    "\n",
    "training, testing = train_test_split(churnDF, train_size=0.8, stratify=churnDF[\"Churn\"], random_state=9)\n",
    "train = h2o.H2OFrame(python_obj=training).drop(\"State\")\n",
    "test = h2o.H2OFrame(python_obj=testing).drop(\"State\")\n",
    "\n",
    "# Set predictor and response variables\n",
    "y = \"Churn\"\n",
    "x = train.columns\n",
    "x.remove(y)"
   ]
  },
  {
   "cell_type": "markdown",
   "metadata": {
    "_datascience": {
     "keep": true
    }
   },
   "source": [
    "# Automatic Machine Learning\n",
    "enter some text here"
   ]
  },
  {
   "cell_type": "code",
   "execution_count": 33,
   "metadata": {},
   "outputs": [
    {
     "name": "stdout",
     "output_type": "stream",
     "text": [
      "AutoML progress: |████████████████████████████████████████████████████████| 100%\n",
      "Parse progress: |█████████████████████████████████████████████████████████| 100%\n"
     ]
    }
   ],
   "source": [
    "# Run AutoML for 20 minutes or until leader fails to improve after 5 rounds\n",
    "autoModel = H2OAutoML(max_models = 11, stopping_rounds=5, stopping_tolerance=0.001)\n",
    "autoModel.train(x = x, y = y,\n",
    "          training_frame = train,\n",
    "          leaderboard_frame = test)"
   ]
  },
  {
   "cell_type": "markdown",
   "metadata": {},
   "source": [
    "## Leaderboard"
   ]
  },
  {
   "cell_type": "code",
   "execution_count": 34,
   "metadata": {},
   "outputs": [
    {
     "data": {
      "text/html": [
       "<table>\n",
       "<thead>\n",
       "<tr><th>model_id                                 </th><th style=\"text-align: right;\">     auc</th><th style=\"text-align: right;\">  logloss</th></tr>\n",
       "</thead>\n",
       "<tbody>\n",
       "<tr><td>GBM_grid_0_AutoML_20171107_185141_model_3</td><td style=\"text-align: right;\">0.940261</td><td style=\"text-align: right;\"> 0.164768</td></tr>\n",
       "<tr><td>GBM_grid_0_AutoML_20171107_182007_model_0</td><td style=\"text-align: right;\">0.936854</td><td style=\"text-align: right;\"> 0.171059</td></tr>\n",
       "<tr><td>GBM_grid_0_AutoML_20171107_185141_model_5</td><td style=\"text-align: right;\">0.934252</td><td style=\"text-align: right;\"> 0.151757</td></tr>\n",
       "<tr><td>GBM_grid_0_AutoML_20171107_185141_model_2</td><td style=\"text-align: right;\">0.931118</td><td style=\"text-align: right;\"> 0.19973 </td></tr>\n",
       "<tr><td>GBM_grid_0_AutoML_20171107_185141_model_0</td><td style=\"text-align: right;\">0.930259</td><td style=\"text-align: right;\"> 0.357099</td></tr>\n",
       "<tr><td>GBM_grid_0_AutoML_20171107_185141_model_1</td><td style=\"text-align: right;\">0.92846 </td><td style=\"text-align: right;\"> 0.203286</td></tr>\n",
       "<tr><td>GBM_grid_0_AutoML_20171107_185141_model_6</td><td style=\"text-align: right;\">0.927016</td><td style=\"text-align: right;\"> 0.202103</td></tr>\n",
       "<tr><td>XRT_0_AutoML_20171107_185141             </td><td style=\"text-align: right;\">0.926648</td><td style=\"text-align: right;\"> 0.315412</td></tr>\n",
       "<tr><td>GBM_grid_0_AutoML_20171107_182007_model_2</td><td style=\"text-align: right;\">0.92132 </td><td style=\"text-align: right;\"> 0.177214</td></tr>\n",
       "<tr><td>DRF_0_AutoML_20171107_185141             </td><td style=\"text-align: right;\">0.919481</td><td style=\"text-align: right;\"> 0.36809 </td></tr>\n",
       "</tbody>\n",
       "</table>"
      ]
     },
     "metadata": {},
     "output_type": "display_data"
    },
    {
     "data": {
      "text/plain": []
     },
     "execution_count": 34,
     "metadata": {},
     "output_type": "execute_result"
    }
   ],
   "source": [
    "leaders = autoModel.leaderboard.\n",
    "leaders"
   ]
  },
  {
   "cell_type": "markdown",
   "metadata": {
    "_datascience": {
     "keep": true
    }
   },
   "source": [
    "# Variable Importances\n",
    "Below we plot variable importances as reported by the best performing algo in the ensemble."
   ]
  },
  {
   "cell_type": "code",
   "execution_count": 35,
   "metadata": {
    "_datascience": {
     "keep": true,
     "summary": true
    }
   },
   "outputs": [
    {
     "data": {
      "text/html": [
       "<iframe id=\"igraph\" scrolling=\"no\" style=\"border:none;\" seamless=\"seamless\" src=\"https://plot.ly/~bretto777/2959.embed\" height=\"525px\" width=\"100%\"></iframe>"
      ],
      "text/plain": [
       "<plotly.tools.PlotlyDisplay object>"
      ]
     },
     "execution_count": 35,
     "metadata": {},
     "output_type": "execute_result"
    }
   ],
   "source": [
    "importances = h2o.get_model(leaders[0, 0]).varimp(use_pandas=True)\n",
    "importances = importances.loc[:,['variable','relative_importance']].groupby('variable').mean()\n",
    "importances.sort_values(by=\"relative_importance\", ascending=False).iplot(kind='bar', colors='#5AC4F2', theme='white')"
   ]
  },
  {
   "cell_type": "markdown",
   "metadata": {
    "_datascience": {
     "keep": true,
     "summary": false
    }
   },
   "source": [
    "# Super Model vs the Base models\n",
    "This plot shows the ROC curves for the Super Model, the Best Base Model, and 9 next best models in the ensemble. "
   ]
  },
  {
   "cell_type": "code",
   "execution_count": 37,
   "metadata": {},
   "outputs": [],
   "source": [
    "Model0 = np.array(h2o.get_model(leaders[0,0]).roc(xval=True))\n",
    "Model1 = np.array(h2o.get_model(leaders[1,0]).roc(xval=True))\n",
    "Model2 = np.array(h2o.get_model(leaders[2,0]).roc(xval=True))\n",
    "Model3 = np.array(h2o.get_model(leaders[3,0]).roc(xval=True))\n",
    "Model4 = np.array(h2o.get_model(leaders[4,0]).roc(xval=True))\n",
    "Model5 = np.array(h2o.get_model(leaders[5,0]).roc(xval=True))\n",
    "Model6 = np.array(h2o.get_model(leaders[6,0]).roc(xval=True))\n",
    "Model7 = np.array(h2o.get_model(leaders[7,0]).roc(xval=True))\n",
    "Model8 = np.array(h2o.get_model(leaders[8,0]).roc(xval=True))\n",
    "Model9 = np.array(h2o.get_model(leaders[9,0]).roc(xval=True))\n",
    "\n",
    "layout = go.Layout(autosize=False, width=725, height=575,  xaxis=dict(title='False Positive Rate', titlefont=dict(family='Arial, sans-serif', size=15, color='grey')), \n",
    "                                                           yaxis=dict(title='True Positive Rate', titlefont=dict(family='Arial, sans-serif', size=15, color='grey')))\n",
    "\n",
    "traceChanceLine = go.Scatter(x = [0,1], y = [0,1], mode = 'lines+markers', name = 'chance', line = dict(color = ('rgb(136, 140, 150)'), width = 4, dash = 'dash'))\n",
    "\n",
    "Model0Trace = go.Scatter(x = Model0[0], y = Model0[1], mode = 'lines', name = 'Model 0', line = dict(color = ('rgb(26, 58, 126)'), width = 3))\n",
    "Model1Trace = go.Scatter(x = Model1[0], y = Model1[1], mode = 'lines', name = 'Model 1', line = dict(color = ('rgb(135, 160, 216)'), width = 3))\n",
    "Model2Trace = go.Scatter(x = Model2[0], y = Model2[1], mode = 'lines', name = 'Model 2', line = dict(color = ('rgb(156, 190, 241)'), width = 1))\n",
    "Model3Trace = go.Scatter(x = Model3[0], y = Model3[1], mode = 'lines', name = 'Model 3', line = dict(color = ('rgb(156, 190, 241)'), width = 1))\n",
    "Model4Trace = go.Scatter(x = Model4[0], y = Model4[1], mode = 'lines', name = 'Model 4', line = dict(color = ('rgb(156, 190, 241)'), width = 1))\n",
    "Model5Trace = go.Scatter(x = Model5[0], y = Model5[1], mode = 'lines', name = 'Model 5', line = dict(color = ('rgb(156, 190, 241)'), width = 1))\n",
    "Model6Trace = go.Scatter(x = Model6[0], y = Model6[1], mode = 'lines', name = 'Model 6', line = dict(color = ('rgb(156, 190, 241)'), width = 1))\n",
    "Model7Trace = go.Scatter(x = Model7[0], y = Model7[1], mode = 'lines', name = 'Model 7', line = dict(color = ('rgb(156, 190, 241)'), width = 1))\n",
    "Model8Trace = go.Scatter(x = Model8[0], y = Model8[1], mode = 'lines', name = 'Model 8', line = dict(color = ('rgb(156, 190, 241)'), width = 1))\n",
    "Model9Trace = go.Scatter(x = Model9[0], y = Model9[1], mode = 'lines', name = 'Model 9', line = dict(color = ('rgb(156, 190, 241)'), width = 1))\n",
    "\n",
    "fig = go.Figure(data=[Model0Trace,Model1Trace,Model2Trace,Model3Trace,Model4Trace,Model5Trace,Model6Trace,Model7Trace,Model8Trace,Model9Trace,traceChanceLine], layout=layout)\n",
    "\n",
    "\n",
    "py.iplot(fig)\n"
   ]
  },
  {
   "cell_type": "code",
   "execution_count": 39,
   "metadata": {},
   "outputs": [
    {
     "data": {
      "text/html": [
       "<iframe id=\"igraph\" scrolling=\"no\" style=\"border:none;\" seamless=\"seamless\" src=\"https://plot.ly/~bretto777/2961.embed\" height=\"575px\" width=\"725px\"></iframe>"
      ],
      "text/plain": [
       "<plotly.tools.PlotlyDisplay object>"
      ]
     },
     "execution_count": 39,
     "metadata": {},
     "output_type": "execute_result"
    }
   ],
   "source": []
  },
  {
   "cell_type": "markdown",
   "metadata": {
    "_datascience": {}
   },
   "source": [
    "# Confusion Matrix"
   ]
  },
  {
   "cell_type": "code",
   "execution_count": 40,
   "metadata": {
    "_datascience": {
     "keep": true
    }
   },
   "outputs": [
    {
     "data": {
      "text/html": [
       "<iframe id=\"igraph\" scrolling=\"no\" style=\"border:none;\" seamless=\"seamless\" src=\"https://plot.ly/~bretto777/2963.embed\" height=\"300px\" width=\"800px\"></iframe>"
      ],
      "text/plain": [
       "<plotly.tools.PlotlyDisplay object>"
      ]
     },
     "execution_count": 40,
     "metadata": {},
     "output_type": "execute_result"
    }
   ],
   "source": [
    "cm = h2o.get_model(leaders[0, 0]).confusion_matrix()\n",
    "cm = cm.table.as_data_frame()\n",
    "cm\n",
    "confusionMatrix = ff.create_table(cm)\n",
    "confusionMatrix.layout.height=300\n",
    "confusionMatrix.layout.width=800\n",
    "confusionMatrix.layout.font.size=17\n",
    "py.iplot(confusionMatrix)\n"
   ]
  },
  {
   "cell_type": "markdown",
   "metadata": {
    "_datascience": {
     "keep": true
    }
   },
   "source": [
    "# Business Impact Matrix\n",
    "\n",
    "Weighting Predictions With a Dollar Value\n",
    "-   Correctly predicting retain: `+$5`\n",
    "-   Correctly predicting churn: `+$75`\n",
    "-   Incorrectly predicting retain: `-$150`\n",
    "-   Incorrectly predicting churn: `-$1.5`\n",
    "\n",
    "    "
   ]
  },
  {
   "cell_type": "code",
   "execution_count": 41,
   "metadata": {
    "_datascience": {
     "keep": true
    }
   },
   "outputs": [
    {
     "data": {
      "text/html": [
       "<iframe id=\"igraph\" scrolling=\"no\" style=\"border:none;\" seamless=\"seamless\" src=\"https://plot.ly/~bretto777/2965.embed\" height=\"300px\" width=\"800px\"></iframe>"
      ],
      "text/plain": [
       "<plotly.tools.PlotlyDisplay object>"
      ]
     },
     "execution_count": 41,
     "metadata": {},
     "output_type": "execute_result"
    }
   ],
   "source": [
    "CorrectPredictChurn = cm.loc[0,'Churn']\n",
    "CorrectPredictChurnImpact = 75\n",
    "cm1 = CorrectPredictChurn*CorrectPredictChurnImpact\n",
    "\n",
    "IncorrectPredictChurn = cm.loc[1,'Churn']\n",
    "IncorrectPredictChurnImpact = -5\n",
    "cm2 = IncorrectPredictChurn*IncorrectPredictChurnImpact\n",
    "\n",
    "IncorrectPredictRetain = cm.loc[0,'Retain']\n",
    "IncorrectPredictRetainImpact = -150\n",
    "cm3 = IncorrectPredictRetain*IncorrectPredictRetainImpact\n",
    "\n",
    "CorrectPredictRetain = cm.loc[0,'Retain']\n",
    "CorrectPredictRetainImpact = 5\n",
    "cm4 = IncorrectPredictRetain*CorrectPredictRetainImpact\n",
    "\n",
    "\n",
    "data_matrix = [['Business Impact', '($) Predicted Churn', '($) Predicted Retain', '($) Total'],\n",
    "               ['($) Actual Churn', cm1, cm3, '' ],\n",
    "               ['($) Actual Retain', cm2, cm4, ''],\n",
    "               ['($) Total', cm1+cm2, cm3+cm4, cm1+cm2+cm3+cm4]]\n",
    "\n",
    "impactMatrix = ff.create_table(data_matrix, height_constant=20, hoverinfo='weight')\n",
    "impactMatrix.layout.height=300\n",
    "impactMatrix.layout.width=800\n",
    "impactMatrix.layout.font.size=17\n",
    "py.iplot(impactMatrix)"
   ]
  },
  {
   "cell_type": "code",
   "execution_count": 42,
   "metadata": {
    "_datascience": {
     "keep": true
    }
   },
   "outputs": [
    {
     "name": "stdout",
     "output_type": "stream",
     "text": [
      "Total customers evaluated: 534\n"
     ]
    }
   ],
   "source": [
    "print(\"Total customers evaluated: 534\")"
   ]
  },
  {
   "cell_type": "code",
   "execution_count": 43,
   "metadata": {
    "_datascience": {
     "keep": true
    }
   },
   "outputs": [
    {
     "name": "stdout",
     "output_type": "stream",
     "text": [
      "Total value created by the model: $9465.0\n"
     ]
    }
   ],
   "source": [
    "print(\"Total value created by the model: $\" + str(cm1+cm2+cm3+cm4))"
   ]
  },
  {
   "cell_type": "code",
   "execution_count": 44,
   "metadata": {
    "_datascience": {
     "keep": true
    },
    "scrolled": true
   },
   "outputs": [
    {
     "name": "stdout",
     "output_type": "stream",
     "text": [
      "Total value per customer: $17.725\n"
     ]
    }
   ],
   "source": [
    "print(\"Total value per customer: $\" +str(round(((cm1+cm2+cm3+cm4)/534),3)))"
   ]
  },
  {
   "cell_type": "code",
   "execution_count": 47,
   "metadata": {},
   "outputs": [
    {
     "data": {
      "text/plain": [
       "'/home/datascience/Predict-Churn'"
      ]
     },
     "execution_count": 47,
     "metadata": {},
     "output_type": "execute_result"
    }
   ],
   "source": [
    "os.getcwd()"
   ]
  },
  {
   "cell_type": "code",
   "execution_count": 52,
   "metadata": {},
   "outputs": [
    {
     "ename": "H2OServerError",
     "evalue": "HTTP 500 Server Error:\nServer error water.api.FSIOException:\n  Error: FS IO Failure: \n accessed path : file:/home/datascience/Predict-Churn/GBM_grid_0_AutoML_20171107_185141_model_3 caused by: /home/datascience/Predict-Churn/GBM_grid_0_AutoML_20171107_185141_model_3 (No such file or directory)\n  Request: None\n",
     "output_type": "error",
     "traceback": [
      "\u001b[0;31m\u001b[0m",
      "\u001b[0;31mH2OServerError\u001b[0mTraceback (most recent call last)",
      "\u001b[0;32m<ipython-input-52-20361d4129d3>\u001b[0m in \u001b[0;36m<module>\u001b[0;34m()\u001b[0m\n\u001b[1;32m      3\u001b[0m \u001b[0;34m\u001b[0m\u001b[0m\n\u001b[1;32m      4\u001b[0m \u001b[0;34m\u001b[0m\u001b[0m\n\u001b[0;32m----> 5\u001b[0;31m \u001b[0mpath\u001b[0m \u001b[0;34m=\u001b[0m \u001b[0mh2o\u001b[0m\u001b[0;34m.\u001b[0m\u001b[0msave_model\u001b[0m\u001b[0;34m(\u001b[0m\u001b[0mmodel\u001b[0m\u001b[0;34m=\u001b[0m\u001b[0mh2o\u001b[0m\u001b[0;34m.\u001b[0m\u001b[0mget_model\u001b[0m\u001b[0;34m(\u001b[0m\u001b[0mleaders\u001b[0m\u001b[0;34m[\u001b[0m\u001b[0;36m0\u001b[0m\u001b[0;34m,\u001b[0m \u001b[0;36m0\u001b[0m\u001b[0;34m]\u001b[0m\u001b[0;34m)\u001b[0m\u001b[0;34m,\u001b[0m \u001b[0mforce\u001b[0m\u001b[0;34m=\u001b[0m\u001b[0mTrue\u001b[0m\u001b[0;34m,\u001b[0m \u001b[0mpath\u001b[0m\u001b[0;34m=\u001b[0m\u001b[0;34m\"/home/datascience/Predict-Churn/\"\u001b[0m\u001b[0;34m)\u001b[0m\u001b[0;34m\u001b[0m\u001b[0m\n\u001b[0m\u001b[1;32m      6\u001b[0m \u001b[0;31m#LoadedEnsemble = h2o.load_model(path='H2O-AutoML-Model')\u001b[0m\u001b[0;34m\u001b[0m\u001b[0;34m\u001b[0m\u001b[0m\n",
      "\u001b[0;32m/usr/local/lib/python2.7/dist-packages/h2o/h2o.pyc\u001b[0m in \u001b[0;36msave_model\u001b[0;34m(model, path, force)\u001b[0m\n\u001b[1;32m    959\u001b[0m     \u001b[0massert_is_type\u001b[0m\u001b[0;34m(\u001b[0m\u001b[0mforce\u001b[0m\u001b[0;34m,\u001b[0m \u001b[0mbool\u001b[0m\u001b[0;34m)\u001b[0m\u001b[0;34m\u001b[0m\u001b[0m\n\u001b[1;32m    960\u001b[0m     \u001b[0mpath\u001b[0m \u001b[0;34m=\u001b[0m \u001b[0mos\u001b[0m\u001b[0;34m.\u001b[0m\u001b[0mpath\u001b[0m\u001b[0;34m.\u001b[0m\u001b[0mjoin\u001b[0m\u001b[0;34m(\u001b[0m\u001b[0mos\u001b[0m\u001b[0;34m.\u001b[0m\u001b[0mgetcwd\u001b[0m\u001b[0;34m(\u001b[0m\u001b[0;34m)\u001b[0m \u001b[0;32mif\u001b[0m \u001b[0mpath\u001b[0m \u001b[0;34m==\u001b[0m \u001b[0;34m\"\"\u001b[0m \u001b[0;32melse\u001b[0m \u001b[0mpath\u001b[0m\u001b[0;34m,\u001b[0m \u001b[0mmodel\u001b[0m\u001b[0;34m.\u001b[0m\u001b[0mmodel_id\u001b[0m\u001b[0;34m)\u001b[0m\u001b[0;34m\u001b[0m\u001b[0m\n\u001b[0;32m--> 961\u001b[0;31m     \u001b[0;32mreturn\u001b[0m \u001b[0mapi\u001b[0m\u001b[0;34m(\u001b[0m\u001b[0;34m\"GET /99/Models.bin/%s\"\u001b[0m \u001b[0;34m%\u001b[0m \u001b[0mmodel\u001b[0m\u001b[0;34m.\u001b[0m\u001b[0mmodel_id\u001b[0m\u001b[0;34m,\u001b[0m \u001b[0mdata\u001b[0m\u001b[0;34m=\u001b[0m\u001b[0;34m{\u001b[0m\u001b[0;34m\"dir\"\u001b[0m\u001b[0;34m:\u001b[0m \u001b[0mpath\u001b[0m\u001b[0;34m,\u001b[0m \u001b[0;34m\"force\"\u001b[0m\u001b[0;34m:\u001b[0m \u001b[0mforce\u001b[0m\u001b[0;34m}\u001b[0m\u001b[0;34m)\u001b[0m\u001b[0;34m[\u001b[0m\u001b[0;34m\"dir\"\u001b[0m\u001b[0;34m]\u001b[0m\u001b[0;34m\u001b[0m\u001b[0m\n\u001b[0m\u001b[1;32m    962\u001b[0m \u001b[0;34m\u001b[0m\u001b[0m\n\u001b[1;32m    963\u001b[0m \u001b[0;34m\u001b[0m\u001b[0m\n",
      "\u001b[0;32m/usr/local/lib/python2.7/dist-packages/h2o/h2o.pyc\u001b[0m in \u001b[0;36mapi\u001b[0;34m(endpoint, data, json, filename, save_to)\u001b[0m\n\u001b[1;32m    100\u001b[0m     \u001b[0;31m# type checks are performed in H2OConnection class\u001b[0m\u001b[0;34m\u001b[0m\u001b[0;34m\u001b[0m\u001b[0m\n\u001b[1;32m    101\u001b[0m     \u001b[0m_check_connection\u001b[0m\u001b[0;34m(\u001b[0m\u001b[0;34m)\u001b[0m\u001b[0;34m\u001b[0m\u001b[0m\n\u001b[0;32m--> 102\u001b[0;31m     \u001b[0;32mreturn\u001b[0m \u001b[0mh2oconn\u001b[0m\u001b[0;34m.\u001b[0m\u001b[0mrequest\u001b[0m\u001b[0;34m(\u001b[0m\u001b[0mendpoint\u001b[0m\u001b[0;34m,\u001b[0m \u001b[0mdata\u001b[0m\u001b[0;34m=\u001b[0m\u001b[0mdata\u001b[0m\u001b[0;34m,\u001b[0m \u001b[0mjson\u001b[0m\u001b[0;34m=\u001b[0m\u001b[0mjson\u001b[0m\u001b[0;34m,\u001b[0m \u001b[0mfilename\u001b[0m\u001b[0;34m=\u001b[0m\u001b[0mfilename\u001b[0m\u001b[0;34m,\u001b[0m \u001b[0msave_to\u001b[0m\u001b[0;34m=\u001b[0m\u001b[0msave_to\u001b[0m\u001b[0;34m)\u001b[0m\u001b[0;34m\u001b[0m\u001b[0m\n\u001b[0m\u001b[1;32m    103\u001b[0m \u001b[0;34m\u001b[0m\u001b[0m\n\u001b[1;32m    104\u001b[0m \u001b[0;34m\u001b[0m\u001b[0m\n",
      "\u001b[0;32m/usr/local/lib/python2.7/dist-packages/h2o/backend/connection.pyc\u001b[0m in \u001b[0;36mrequest\u001b[0;34m(self, endpoint, data, json, filename, save_to)\u001b[0m\n\u001b[1;32m    400\u001b[0m                                     auth=self._auth, verify=self._verify_ssl_cert, proxies=self._proxies)\n\u001b[1;32m    401\u001b[0m             \u001b[0mself\u001b[0m\u001b[0;34m.\u001b[0m\u001b[0m_log_end_transaction\u001b[0m\u001b[0;34m(\u001b[0m\u001b[0mstart_time\u001b[0m\u001b[0;34m,\u001b[0m \u001b[0mresp\u001b[0m\u001b[0;34m)\u001b[0m\u001b[0;34m\u001b[0m\u001b[0m\n\u001b[0;32m--> 402\u001b[0;31m             \u001b[0;32mreturn\u001b[0m \u001b[0mself\u001b[0m\u001b[0;34m.\u001b[0m\u001b[0m_process_response\u001b[0m\u001b[0;34m(\u001b[0m\u001b[0mresp\u001b[0m\u001b[0;34m,\u001b[0m \u001b[0msave_to\u001b[0m\u001b[0;34m)\u001b[0m\u001b[0;34m\u001b[0m\u001b[0m\n\u001b[0m\u001b[1;32m    403\u001b[0m \u001b[0;34m\u001b[0m\u001b[0m\n\u001b[1;32m    404\u001b[0m         \u001b[0;32mexcept\u001b[0m \u001b[0;34m(\u001b[0m\u001b[0mrequests\u001b[0m\u001b[0;34m.\u001b[0m\u001b[0mexceptions\u001b[0m\u001b[0;34m.\u001b[0m\u001b[0mConnectionError\u001b[0m\u001b[0;34m,\u001b[0m \u001b[0mrequests\u001b[0m\u001b[0;34m.\u001b[0m\u001b[0mexceptions\u001b[0m\u001b[0;34m.\u001b[0m\u001b[0mHTTPError\u001b[0m\u001b[0;34m)\u001b[0m \u001b[0;32mas\u001b[0m \u001b[0me\u001b[0m\u001b[0;34m:\u001b[0m\u001b[0;34m\u001b[0m\u001b[0m\n",
      "\u001b[0;32m/usr/local/lib/python2.7/dist-packages/h2o/backend/connection.pyc\u001b[0m in \u001b[0;36m_process_response\u001b[0;34m(response, save_to)\u001b[0m\n\u001b[1;32m    728\u001b[0m         \u001b[0;31m# Note that it is possible to receive valid H2OErrorV3 object in this case, however it merely means the server\u001b[0m\u001b[0;34m\u001b[0m\u001b[0;34m\u001b[0m\u001b[0m\n\u001b[1;32m    729\u001b[0m         \u001b[0;31m# did not provide the correct status code.\u001b[0m\u001b[0;34m\u001b[0m\u001b[0;34m\u001b[0m\u001b[0m\n\u001b[0;32m--> 730\u001b[0;31m         \u001b[0;32mraise\u001b[0m \u001b[0mH2OServerError\u001b[0m\u001b[0;34m(\u001b[0m\u001b[0;34m\"HTTP %d %s:\\n%r\"\u001b[0m \u001b[0;34m%\u001b[0m \u001b[0;34m(\u001b[0m\u001b[0mstatus_code\u001b[0m\u001b[0;34m,\u001b[0m \u001b[0mresponse\u001b[0m\u001b[0;34m.\u001b[0m\u001b[0mreason\u001b[0m\u001b[0;34m,\u001b[0m \u001b[0mdata\u001b[0m\u001b[0;34m)\u001b[0m\u001b[0;34m)\u001b[0m\u001b[0;34m\u001b[0m\u001b[0m\n\u001b[0m\u001b[1;32m    731\u001b[0m \u001b[0;34m\u001b[0m\u001b[0m\n\u001b[1;32m    732\u001b[0m \u001b[0;34m\u001b[0m\u001b[0m\n",
      "\u001b[0;31mH2OServerError\u001b[0m: HTTP 500 Server Error:\nServer error water.api.FSIOException:\n  Error: FS IO Failure: \n accessed path : file:/home/datascience/Predict-Churn/GBM_grid_0_AutoML_20171107_185141_model_3 caused by: /home/datascience/Predict-Churn/GBM_grid_0_AutoML_20171107_185141_model_3 (No such file or directory)\n  Request: None\n"
     ]
    }
   ],
   "source": [
    "# Save the Model\n",
    "\n",
    "\n",
    "\n",
    "path = h2o.save_model(model=h2o.get_model(leaders[0, 0]), force=True, path=\"/home/datascience/Predict-Churn/\")\n",
    "#LoadedEnsemble = h2o.load_model(path='H2O-AutoML-Model')"
   ]
  }
 ],
 "metadata": {
  "_datascience": {
   "notebookId": 608,
   "post_id": "AVs_WCYcdxOghr0gw_3H"
  },
  "kernelspec": {
   "display_name": "Python 2",
   "language": "python",
   "name": "python2"
  },
  "language_info": {
   "codemirror_mode": {
    "name": "ipython",
    "version": 2
   },
   "file_extension": ".py",
   "mimetype": "text/x-python",
   "name": "python",
   "nbconvert_exporter": "python",
   "pygments_lexer": "ipython2",
   "version": "2.7.9"
  }
 },
 "nbformat": 4,
 "nbformat_minor": 2
}
