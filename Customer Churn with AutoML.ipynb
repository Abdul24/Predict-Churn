{
 "cells": [
  {
   "cell_type": "markdown",
   "metadata": {
    "_datascience": {
     "keep": true,
     "summary": true
    }
   },
   "source": [
    "# Customer Churn Analysis\n",
    "Churn rate, when applied to a customer base, refers to the proportion of contractual customers or subscribers who leave a supplier during a given time period. It is a possible indicator of customer dissatisfaction, cheaper and/or better offers from the competition, more successful sales and/or marketing by the competition, or reasons having to do with the customer life cycle.\n",
    "\n",
    "Churn is closely related to the concept of average customer life time. For example, an annual churn rate of 25 percent implies an average customer life of four years. An annual churn rate of 33 percent implies an average customer life of three years. The churn rate can be minimized by creating barriers which discourage customers to change suppliers (contractual binding periods, use of proprietary technology, value-added services, unique business models, etc.), or through retention activities such as loyalty programs. It is possible to overstate the churn rate, as when a consumer drops the service but then restarts it within the same year. Thus, a clear distinction needs to be made between \"gross churn\", the total number of absolute disconnections, and \"net churn\", the overall loss of subscribers or members. The difference between the two measures is the number of new subscribers or members that have joined during the same period. Suppliers may find that if they offer a loss-leader \"introductory special\", it can lead to a higher churn rate and subscriber abuse, as some subscribers will sign on, let the service lapse, then sign on again to take continuous advantage of current specials. https://en.wikipedia.org/wiki/Churn_rate"
   ]
  },
  {
   "cell_type": "code",
   "execution_count": 32,
   "metadata": {
    "_datascience": {}
   },
   "outputs": [],
   "source": [
    "%%capture\n",
    "\n",
    "# Get our favorite packages from PyPI\n",
    "! pip install cufflinks\n",
    "\n",
    "# Import pre-installed packages\n",
    "import numpy as np\n",
    "import pandas as pd\n",
    "\n",
    "# Suppress unwatned warnings\n",
    "import warnings\n",
    "warnings.filterwarnings('ignore')\n",
    "import logging\n",
    "logging.getLogger(\"requests\").setLevel(logging.WARNING)"
   ]
  },
  {
   "cell_type": "code",
   "execution_count": 33,
   "metadata": {
    "_datascience": {}
   },
   "outputs": [
    {
     "data": {
      "text/html": [
       "<script>requirejs.config({paths: { 'plotly': ['https://cdn.plot.ly/plotly-latest.min']},});if(!window.Plotly) {{require(['plotly'],function(plotly) {window.Plotly=plotly;});}}</script>"
      ],
      "text/vnd.plotly.v1+html": [
       "<script>requirejs.config({paths: { 'plotly': ['https://cdn.plot.ly/plotly-latest.min']},});if(!window.Plotly) {{require(['plotly'],function(plotly) {window.Plotly=plotly;});}}</script>"
      ]
     },
     "metadata": {},
     "output_type": "display_data"
    }
   ],
   "source": [
    "# Load our favorite visualization library\n",
    "import os\n",
    "import plotly\n",
    "import plotly.plotly as py\n",
    "import plotly.figure_factory as ff\n",
    "import plotly.graph_objs as go\n",
    "import cufflinks as cf\n",
    "plotly.offline.init_notebook_mode(connected=True)\n",
    "\n",
    "# Sign into Plotly with masked, encrypted API key\n",
    "\n",
    "myPlotlyKey = os.environ['SECRET_ENV_BRETTS_PLOTLY_KEY']\n",
    "py.sign_in(username='bretto777',api_key=myPlotlyKey)\n"
   ]
  },
  {
   "cell_type": "code",
   "execution_count": 35,
   "metadata": {
    "_datascience": {
     "keep": false
    },
    "scrolled": false
   },
   "outputs": [
    {
     "data": {
      "text/html": [
       "<div>\n",
       "<style scoped>\n",
       "    .dataframe tbody tr th:only-of-type {\n",
       "        vertical-align: middle;\n",
       "    }\n",
       "\n",
       "    .dataframe tbody tr th {\n",
       "        vertical-align: top;\n",
       "    }\n",
       "\n",
       "    .dataframe thead th {\n",
       "        text-align: right;\n",
       "    }\n",
       "</style>\n",
       "<table border=\"1\" class=\"dataframe\">\n",
       "  <thead>\n",
       "    <tr style=\"text-align: right;\">\n",
       "      <th></th>\n",
       "      <th>State</th>\n",
       "      <th>Account Length</th>\n",
       "      <th>Area Code</th>\n",
       "      <th>Phone</th>\n",
       "      <th>Int'l Plan</th>\n",
       "      <th>VMail Plan</th>\n",
       "      <th>VMail Message</th>\n",
       "      <th>Day Mins</th>\n",
       "      <th>Day Calls</th>\n",
       "      <th>Day Charge</th>\n",
       "      <th>...</th>\n",
       "      <th>Eve Calls</th>\n",
       "      <th>Eve Charge</th>\n",
       "      <th>Night Mins</th>\n",
       "      <th>Night Calls</th>\n",
       "      <th>Night Charge</th>\n",
       "      <th>Intl Mins</th>\n",
       "      <th>Intl Calls</th>\n",
       "      <th>Intl Charge</th>\n",
       "      <th>CustServ Calls</th>\n",
       "      <th>Churn</th>\n",
       "    </tr>\n",
       "  </thead>\n",
       "  <tbody>\n",
       "    <tr>\n",
       "      <th>0</th>\n",
       "      <td>ND</td>\n",
       "      <td>84</td>\n",
       "      <td>415</td>\n",
       "      <td>400-7253</td>\n",
       "      <td>no</td>\n",
       "      <td>yes</td>\n",
       "      <td>33</td>\n",
       "      <td>159.1</td>\n",
       "      <td>106</td>\n",
       "      <td>27.05</td>\n",
       "      <td>...</td>\n",
       "      <td>101</td>\n",
       "      <td>12.73</td>\n",
       "      <td>213.4</td>\n",
       "      <td>108</td>\n",
       "      <td>9.60</td>\n",
       "      <td>13.0</td>\n",
       "      <td>18</td>\n",
       "      <td>3.51</td>\n",
       "      <td>1</td>\n",
       "      <td>Retain</td>\n",
       "    </tr>\n",
       "    <tr>\n",
       "      <th>1</th>\n",
       "      <td>RI</td>\n",
       "      <td>117</td>\n",
       "      <td>408</td>\n",
       "      <td>370-5042</td>\n",
       "      <td>no</td>\n",
       "      <td>yes</td>\n",
       "      <td>13</td>\n",
       "      <td>207.6</td>\n",
       "      <td>65</td>\n",
       "      <td>35.29</td>\n",
       "      <td>...</td>\n",
       "      <td>77</td>\n",
       "      <td>12.98</td>\n",
       "      <td>232.8</td>\n",
       "      <td>95</td>\n",
       "      <td>10.48</td>\n",
       "      <td>9.7</td>\n",
       "      <td>3</td>\n",
       "      <td>2.62</td>\n",
       "      <td>1</td>\n",
       "      <td>Retain</td>\n",
       "    </tr>\n",
       "    <tr>\n",
       "      <th>2</th>\n",
       "      <td>VA</td>\n",
       "      <td>132</td>\n",
       "      <td>510</td>\n",
       "      <td>343-4696</td>\n",
       "      <td>no</td>\n",
       "      <td>no</td>\n",
       "      <td>0</td>\n",
       "      <td>81.1</td>\n",
       "      <td>86</td>\n",
       "      <td>13.79</td>\n",
       "      <td>...</td>\n",
       "      <td>72</td>\n",
       "      <td>20.84</td>\n",
       "      <td>237.0</td>\n",
       "      <td>115</td>\n",
       "      <td>10.67</td>\n",
       "      <td>10.3</td>\n",
       "      <td>2</td>\n",
       "      <td>2.78</td>\n",
       "      <td>0</td>\n",
       "      <td>Retain</td>\n",
       "    </tr>\n",
       "    <tr>\n",
       "      <th>3</th>\n",
       "      <td>OK</td>\n",
       "      <td>121</td>\n",
       "      <td>408</td>\n",
       "      <td>364-2495</td>\n",
       "      <td>no</td>\n",
       "      <td>yes</td>\n",
       "      <td>31</td>\n",
       "      <td>237.1</td>\n",
       "      <td>63</td>\n",
       "      <td>40.31</td>\n",
       "      <td>...</td>\n",
       "      <td>117</td>\n",
       "      <td>17.48</td>\n",
       "      <td>196.7</td>\n",
       "      <td>85</td>\n",
       "      <td>8.85</td>\n",
       "      <td>10.1</td>\n",
       "      <td>5</td>\n",
       "      <td>2.73</td>\n",
       "      <td>4</td>\n",
       "      <td>Retain</td>\n",
       "    </tr>\n",
       "    <tr>\n",
       "      <th>4</th>\n",
       "      <td>ME</td>\n",
       "      <td>205</td>\n",
       "      <td>510</td>\n",
       "      <td>413-4039</td>\n",
       "      <td>no</td>\n",
       "      <td>yes</td>\n",
       "      <td>24</td>\n",
       "      <td>175.8</td>\n",
       "      <td>139</td>\n",
       "      <td>29.89</td>\n",
       "      <td>...</td>\n",
       "      <td>98</td>\n",
       "      <td>13.18</td>\n",
       "      <td>180.7</td>\n",
       "      <td>64</td>\n",
       "      <td>8.13</td>\n",
       "      <td>7.8</td>\n",
       "      <td>5</td>\n",
       "      <td>2.11</td>\n",
       "      <td>2</td>\n",
       "      <td>Retain</td>\n",
       "    </tr>\n",
       "    <tr>\n",
       "      <th>5</th>\n",
       "      <td>MT</td>\n",
       "      <td>116</td>\n",
       "      <td>415</td>\n",
       "      <td>384-5907</td>\n",
       "      <td>no</td>\n",
       "      <td>yes</td>\n",
       "      <td>35</td>\n",
       "      <td>182.8</td>\n",
       "      <td>122</td>\n",
       "      <td>31.08</td>\n",
       "      <td>...</td>\n",
       "      <td>119</td>\n",
       "      <td>18.08</td>\n",
       "      <td>193.8</td>\n",
       "      <td>103</td>\n",
       "      <td>8.72</td>\n",
       "      <td>11.0</td>\n",
       "      <td>2</td>\n",
       "      <td>2.97</td>\n",
       "      <td>1</td>\n",
       "      <td>Retain</td>\n",
       "    </tr>\n",
       "    <tr>\n",
       "      <th>6</th>\n",
       "      <td>MN</td>\n",
       "      <td>113</td>\n",
       "      <td>408</td>\n",
       "      <td>417-5146</td>\n",
       "      <td>no</td>\n",
       "      <td>no</td>\n",
       "      <td>0</td>\n",
       "      <td>158.9</td>\n",
       "      <td>137</td>\n",
       "      <td>27.01</td>\n",
       "      <td>...</td>\n",
       "      <td>109</td>\n",
       "      <td>20.64</td>\n",
       "      <td>247.8</td>\n",
       "      <td>97</td>\n",
       "      <td>11.15</td>\n",
       "      <td>6.5</td>\n",
       "      <td>4</td>\n",
       "      <td>1.76</td>\n",
       "      <td>0</td>\n",
       "      <td>Retain</td>\n",
       "    </tr>\n",
       "    <tr>\n",
       "      <th>7</th>\n",
       "      <td>MO</td>\n",
       "      <td>74</td>\n",
       "      <td>415</td>\n",
       "      <td>421-2955</td>\n",
       "      <td>no</td>\n",
       "      <td>no</td>\n",
       "      <td>0</td>\n",
       "      <td>172.1</td>\n",
       "      <td>105</td>\n",
       "      <td>29.26</td>\n",
       "      <td>...</td>\n",
       "      <td>99</td>\n",
       "      <td>17.99</td>\n",
       "      <td>182.2</td>\n",
       "      <td>105</td>\n",
       "      <td>8.20</td>\n",
       "      <td>11.6</td>\n",
       "      <td>6</td>\n",
       "      <td>3.13</td>\n",
       "      <td>1</td>\n",
       "      <td>Retain</td>\n",
       "    </tr>\n",
       "    <tr>\n",
       "      <th>8</th>\n",
       "      <td>MI</td>\n",
       "      <td>112</td>\n",
       "      <td>510</td>\n",
       "      <td>420-1383</td>\n",
       "      <td>no</td>\n",
       "      <td>no</td>\n",
       "      <td>0</td>\n",
       "      <td>243.4</td>\n",
       "      <td>77</td>\n",
       "      <td>41.38</td>\n",
       "      <td>...</td>\n",
       "      <td>97</td>\n",
       "      <td>15.48</td>\n",
       "      <td>259.2</td>\n",
       "      <td>94</td>\n",
       "      <td>11.66</td>\n",
       "      <td>12.8</td>\n",
       "      <td>2</td>\n",
       "      <td>3.46</td>\n",
       "      <td>1</td>\n",
       "      <td>Retain</td>\n",
       "    </tr>\n",
       "    <tr>\n",
       "      <th>9</th>\n",
       "      <td>UT</td>\n",
       "      <td>68</td>\n",
       "      <td>415</td>\n",
       "      <td>403-8916</td>\n",
       "      <td>no</td>\n",
       "      <td>no</td>\n",
       "      <td>0</td>\n",
       "      <td>213.9</td>\n",
       "      <td>112</td>\n",
       "      <td>36.36</td>\n",
       "      <td>...</td>\n",
       "      <td>100</td>\n",
       "      <td>22.14</td>\n",
       "      <td>233.8</td>\n",
       "      <td>97</td>\n",
       "      <td>10.52</td>\n",
       "      <td>8.4</td>\n",
       "      <td>3</td>\n",
       "      <td>2.27</td>\n",
       "      <td>1</td>\n",
       "      <td>Churn</td>\n",
       "    </tr>\n",
       "  </tbody>\n",
       "</table>\n",
       "<p>10 rows × 21 columns</p>\n",
       "</div>"
      ],
      "text/plain": [
       "  State  Account Length  Area Code     Phone Int'l Plan VMail Plan  \\\n",
       "0    ND              84        415  400-7253         no        yes   \n",
       "1    RI             117        408  370-5042         no        yes   \n",
       "2    VA             132        510  343-4696         no         no   \n",
       "3    OK             121        408  364-2495         no        yes   \n",
       "4    ME             205        510  413-4039         no        yes   \n",
       "5    MT             116        415  384-5907         no        yes   \n",
       "6    MN             113        408  417-5146         no         no   \n",
       "7    MO              74        415  421-2955         no         no   \n",
       "8    MI             112        510  420-1383         no         no   \n",
       "9    UT              68        415  403-8916         no         no   \n",
       "\n",
       "   VMail Message  Day Mins  Day Calls  Day Charge   ...    Eve Calls  \\\n",
       "0             33     159.1        106       27.05   ...          101   \n",
       "1             13     207.6         65       35.29   ...           77   \n",
       "2              0      81.1         86       13.79   ...           72   \n",
       "3             31     237.1         63       40.31   ...          117   \n",
       "4             24     175.8        139       29.89   ...           98   \n",
       "5             35     182.8        122       31.08   ...          119   \n",
       "6              0     158.9        137       27.01   ...          109   \n",
       "7              0     172.1        105       29.26   ...           99   \n",
       "8              0     243.4         77       41.38   ...           97   \n",
       "9              0     213.9        112       36.36   ...          100   \n",
       "\n",
       "   Eve Charge  Night Mins  Night Calls  Night Charge  Intl Mins  Intl Calls  \\\n",
       "0       12.73       213.4          108          9.60       13.0          18   \n",
       "1       12.98       232.8           95         10.48        9.7           3   \n",
       "2       20.84       237.0          115         10.67       10.3           2   \n",
       "3       17.48       196.7           85          8.85       10.1           5   \n",
       "4       13.18       180.7           64          8.13        7.8           5   \n",
       "5       18.08       193.8          103          8.72       11.0           2   \n",
       "6       20.64       247.8           97         11.15        6.5           4   \n",
       "7       17.99       182.2          105          8.20       11.6           6   \n",
       "8       15.48       259.2           94         11.66       12.8           2   \n",
       "9       22.14       233.8           97         10.52        8.4           3   \n",
       "\n",
       "   Intl Charge  CustServ Calls   Churn  \n",
       "0         3.51               1  Retain  \n",
       "1         2.62               1  Retain  \n",
       "2         2.78               0  Retain  \n",
       "3         2.73               4  Retain  \n",
       "4         2.11               2  Retain  \n",
       "5         2.97               1  Retain  \n",
       "6         1.76               0  Retain  \n",
       "7         3.13               1  Retain  \n",
       "8         3.46               1  Retain  \n",
       "9         2.27               1   Churn  \n",
       "\n",
       "[10 rows x 21 columns]"
      ]
     },
     "execution_count": 35,
     "metadata": {},
     "output_type": "execute_result"
    }
   ],
   "source": [
    "# Load some data\n",
    "churnDF = pd.read_csv('https://s3-us-west-1.amazonaws.com/dsclouddata/home/jupyter/churn_train.csv', delimiter=',')\n",
    "churnDF[\"Churn\"] = churnDF[\"Churn\"].replace(to_replace=False, value='Retain')\n",
    "churnDF[\"Churn\"] = churnDF[\"Churn\"].replace(to_replace=True, value='Churn')\n",
    "churnDFs = churnDF.sample(frac=0.07) # Sample for speedy viz\n",
    "churnDF.head(10)"
   ]
  },
  {
   "cell_type": "code",
   "execution_count": 36,
   "metadata": {
    "_datascience": {
     "keep": true
    }
   },
   "outputs": [
    {
     "data": {
      "text/html": [
       "<iframe id=\"igraph\" scrolling=\"no\" style=\"border:none;\" seamless=\"seamless\" src=\"https://plot.ly/~bretto777/3073.embed\" height=\"560px\" width=\"650px\"></iframe>"
      ],
      "text/plain": [
       "<plotly.tools.PlotlyDisplay object>"
      ]
     },
     "execution_count": 36,
     "metadata": {},
     "output_type": "execute_result"
    }
   ],
   "source": [
    "# separate the calls data for plotting\n",
    "\n",
    "\n",
    "churnDFs = churnDFs[['Account Length','Day Calls','Eve Calls','CustServ Calls','Churn']]\n",
    "\n",
    "# Create scatter plot matrix of call data\n",
    "splom = ff.create_scatterplotmatrix(churnDFs, diag='histogram', index='Churn',  \n",
    "                                  colormap= dict(\n",
    "                                      Churn = '#9CBEF1',\n",
    "                                      Retain = '#04367F'\n",
    "                                      ),\n",
    "                                  colormap_type='cat',\n",
    "                                  height=560, width=650,\n",
    "                                  size=4, marker=dict(symbol='circle'))\n",
    "py.iplot(splom)"
   ]
  },
  {
   "cell_type": "code",
   "execution_count": 37,
   "metadata": {
    "_datascience": {}
   },
   "outputs": [],
   "source": [
    "%%capture\n",
    "import h2o\n",
    "from h2o.automl import H2OAutoML\n",
    "from __future__ import print_function\n",
    "#h2o.connect(ip=\"35.225.239.147\")\n",
    "h2o.init(nthreads=2, max_mem_size=\"7G\")"
   ]
  },
  {
   "cell_type": "code",
   "execution_count": 38,
   "metadata": {
    "_datascience": {}
   },
   "outputs": [],
   "source": [
    "%%capture\n",
    "\n",
    "# Split data into training and testing frames\n",
    "\n",
    "from sklearn import cross_validation\n",
    "from sklearn.model_selection import train_test_split\n",
    "\n",
    "training, testing = train_test_split(churnDF, train_size=0.8, stratify=churnDF[\"Churn\"], random_state=9)\n",
    "train = h2o.H2OFrame(python_obj=training).drop(\"State\")\n",
    "test = h2o.H2OFrame(python_obj=testing).drop(\"State\")\n",
    "\n",
    "# Set predictor and response variables\n",
    "y = \"Churn\"\n",
    "x = train.columns\n",
    "x.remove(y)"
   ]
  },
  {
   "cell_type": "markdown",
   "metadata": {
    "_datascience": {
     "keep": true
    }
   },
   "source": [
    "# Automatic Machine Learning\n",
    "\n",
    "The Automatic Machine Learning (AutoML) function automates the supervised machine learning model training process. The current version of AutoML trains and cross-validates a Random Forest, an Extremely-Randomized Forest, a random grid of Gradient Boosting Machines (GBMs), a random grid of Deep Neural Nets, and a Stacked Ensemble of all the models."
   ]
  },
  {
   "cell_type": "code",
   "execution_count": 39,
   "metadata": {},
   "outputs": [],
   "source": [
    "%%capture\n",
    "# Run AutoML until 11 models are built\n",
    "autoModel = H2OAutoML(max_models = 11)\n",
    "autoModel.train(x = x, y = y,\n",
    "          training_frame = train,\n",
    "          validation_frame = test, \n",
    "          leaderboard_frame = test)"
   ]
  },
  {
   "cell_type": "markdown",
   "metadata": {},
   "source": [
    "## Leaderboard"
   ]
  },
  {
   "cell_type": "code",
   "execution_count": 40,
   "metadata": {},
   "outputs": [
    {
     "data": {
      "text/html": [
       "<table>\n",
       "<thead>\n",
       "<tr><th>model_id                                             </th><th style=\"text-align: right;\">     auc</th><th style=\"text-align: right;\">  logloss</th></tr>\n",
       "</thead>\n",
       "<tbody>\n",
       "<tr><td>GBM_grid_0_AutoML_20171208_144915_model_3            </td><td style=\"text-align: right;\">0.948764</td><td style=\"text-align: right;\"> 0.136438</td></tr>\n",
       "<tr><td>GBM_grid_0_AutoML_20171208_144915_model_0            </td><td style=\"text-align: right;\">0.947006</td><td style=\"text-align: right;\"> 0.139041</td></tr>\n",
       "<tr><td>GBM_grid_0_AutoML_20171208_144915_model_1            </td><td style=\"text-align: right;\">0.936963</td><td style=\"text-align: right;\"> 0.136944</td></tr>\n",
       "<tr><td>StackedEnsemble_AllModels_0_AutoML_20171208_144915   </td><td style=\"text-align: right;\">0.936091</td><td style=\"text-align: right;\"> 0.130065</td></tr>\n",
       "<tr><td>GBM_grid_0_AutoML_20171208_144915_model_2            </td><td style=\"text-align: right;\">0.934197</td><td style=\"text-align: right;\"> 0.142858</td></tr>\n",
       "<tr><td>GBM_grid_0_AutoML_20171208_144915_model_4            </td><td style=\"text-align: right;\">0.933039</td><td style=\"text-align: right;\"> 0.194288</td></tr>\n",
       "<tr><td>StackedEnsemble_BestOfFamily_0_AutoML_20171208_144915</td><td style=\"text-align: right;\">0.932181</td><td style=\"text-align: right;\"> 0.133007</td></tr>\n",
       "<tr><td>DRF_0_AutoML_20171208_144915                         </td><td style=\"text-align: right;\">0.918118</td><td style=\"text-align: right;\"> 0.637457</td></tr>\n",
       "<tr><td>XRT_0_AutoML_20171208_144915                         </td><td style=\"text-align: right;\">0.916142</td><td style=\"text-align: right;\"> 0.528189</td></tr>\n",
       "<tr><td>GBM_grid_0_AutoML_20171208_144915_model_6            </td><td style=\"text-align: right;\">0.913131</td><td style=\"text-align: right;\"> 0.221672</td></tr>\n",
       "</tbody>\n",
       "</table>"
      ]
     },
     "metadata": {},
     "output_type": "display_data"
    },
    {
     "data": {
      "text/plain": []
     },
     "execution_count": 40,
     "metadata": {},
     "output_type": "execute_result"
    }
   ],
   "source": [
    "leaders = autoModel.leaderboard\n",
    "leaders"
   ]
  },
  {
   "cell_type": "markdown",
   "metadata": {
    "_datascience": {
     "keep": true
    }
   },
   "source": [
    "# Variable Importances\n",
    "Below we plot variable importances as reported by the best performing algo in the ensemble."
   ]
  },
  {
   "cell_type": "code",
   "execution_count": 41,
   "metadata": {
    "_datascience": {
     "keep": true,
     "summary": true
    }
   },
   "outputs": [
    {
     "data": {
      "text/html": [
       "<iframe id=\"igraph\" scrolling=\"no\" style=\"border:none;\" seamless=\"seamless\" src=\"https://plot.ly/~bretto777/3075.embed\" height=\"525px\" width=\"100%\"></iframe>"
      ],
      "text/plain": [
       "<plotly.tools.PlotlyDisplay object>"
      ]
     },
     "execution_count": 41,
     "metadata": {},
     "output_type": "execute_result"
    }
   ],
   "source": [
    "importances = h2o.get_model(leaders[0, 0]).varimp(use_pandas=True)\n",
    "importances = importances.loc[:,['variable','relative_importance']].groupby('variable').mean()\n",
    "importances.sort_values(by=\"relative_importance\", ascending=False).iplot(kind='bar', colors='#5AC4F2', theme='white')"
   ]
  },
  {
   "cell_type": "markdown",
   "metadata": {
    "_datascience": {
     "keep": true,
     "summary": false
    }
   },
   "source": [
    "# Super Model vs the Base models\n",
    "This plot shows the ROC curves for the Super Model, the Best Base Model, and 9 next best models in the ensemble. "
   ]
  },
  {
   "cell_type": "code",
   "execution_count": 42,
   "metadata": {},
   "outputs": [
    {
     "data": {
      "text/html": [
       "<iframe id=\"igraph\" scrolling=\"no\" style=\"border:none;\" seamless=\"seamless\" src=\"https://plot.ly/~bretto777/3077.embed\" height=\"575px\" width=\"725px\"></iframe>"
      ],
      "text/plain": [
       "<plotly.tools.PlotlyDisplay object>"
      ]
     },
     "execution_count": 42,
     "metadata": {},
     "output_type": "execute_result"
    }
   ],
   "source": [
    "Model0 = np.array(h2o.get_model(leaders[0,0]).roc(xval=True))\n",
    "Model1 = np.array(h2o.get_model(leaders[1,0]).roc(xval=True))\n",
    "Model2 = np.array(h2o.get_model(leaders[2,0]).roc(xval=True))\n",
    "Model3 = np.array(h2o.get_model(leaders[3,0]).roc(xval=True))\n",
    "Model4 = np.array(h2o.get_model(leaders[4,0]).roc(xval=True))\n",
    "Model5 = np.array(h2o.get_model(leaders[5,0]).roc(xval=True))\n",
    "Model6 = np.array(h2o.get_model(leaders[6,0]).roc(xval=True))\n",
    "Model7 = np.array(h2o.get_model(leaders[7,0]).roc(xval=True))\n",
    "Model8 = np.array(h2o.get_model(leaders[8,0]).roc(xval=True))\n",
    "Model9 = np.array(h2o.get_model(leaders[9,0]).roc(xval=True))\n",
    "\n",
    "layout = go.Layout(autosize=False, width=725, height=575,  xaxis=dict(title='False Positive Rate', titlefont=dict(family='Arial, sans-serif', size=15, color='grey')), \n",
    "                                                           yaxis=dict(title='True Positive Rate', titlefont=dict(family='Arial, sans-serif', size=15, color='grey')))\n",
    "\n",
    "traceChanceLine = go.Scatter(x = [0,1], y = [0,1], mode = 'lines+markers', name = 'chance', line = dict(color = ('rgb(136, 140, 150)'), width = 4, dash = 'dash'))\n",
    "Model0Trace = go.Scatter(x = Model0[0], y = Model0[1], mode = 'lines', name = 'Model 0', line = dict(color = ('rgb(26, 58, 126)'), width = 3))\n",
    "Model1Trace = go.Scatter(x = Model1[0], y = Model1[1], mode = 'lines', name = 'Model 1', line = dict(color = ('rgb(156, 190, 241))'), width = 1))\n",
    "Model2Trace = go.Scatter(x = Model2[0], y = Model2[1], mode = 'lines', name = 'Model 2', line = dict(color = ('rgb(156, 190, 241)'), width = 1))\n",
    "Model3Trace = go.Scatter(x = Model3[0], y = Model3[1], mode = 'lines', name = 'Model 3', line = dict(color = ('rgb(156, 190, 241)'), width = 1))\n",
    "Model4Trace = go.Scatter(x = Model4[0], y = Model4[1], mode = 'lines', name = 'Model 4', line = dict(color = ('rgb(156, 190, 241)'), width = 1))\n",
    "Model5Trace = go.Scatter(x = Model5[0], y = Model5[1], mode = 'lines', name = 'Model 5', line = dict(color = ('rgb(156, 190, 241)'), width = 1))\n",
    "Model6Trace = go.Scatter(x = Model6[0], y = Model6[1], mode = 'lines', name = 'Model 6', line = dict(color = ('rgb(156, 190, 241)'), width = 1))\n",
    "Model7Trace = go.Scatter(x = Model7[0], y = Model7[1], mode = 'lines', name = 'Model 7', line = dict(color = ('rgb(156, 190, 241)'), width = 1))\n",
    "Model8Trace = go.Scatter(x = Model8[0], y = Model8[1], mode = 'lines', name = 'Model 8', line = dict(color = ('rgb(156, 190, 241)'), width = 1))\n",
    "Model9Trace = go.Scatter(x = Model9[0], y = Model9[1], mode = 'lines', name = 'Model 9', line = dict(color = ('rgb(156, 190, 241)'), width = 1))\n",
    "\n",
    "fig = go.Figure(data=[Model0Trace,Model1Trace,Model2Trace,Model3Trace,Model4Trace,Model5Trace,Model6Trace,Model8Trace,Model9Trace,traceChanceLine], layout=layout)\n",
    "\n",
    "py.iplot(fig)"
   ]
  },
  {
   "cell_type": "code",
   "execution_count": 56,
   "metadata": {},
   "outputs": [
    {
     "data": {
      "text/plain": [
       "[u'Account Length',\n",
       " u'Area Code',\n",
       " u'Phone',\n",
       " u\"Int'l Plan\",\n",
       " u'VMail Plan',\n",
       " u'VMail Message',\n",
       " u'Day Mins',\n",
       " u'Day Calls',\n",
       " u'Day Charge',\n",
       " u'Eve Mins',\n",
       " u'Eve Calls',\n",
       " u'Eve Charge',\n",
       " u'Night Mins',\n",
       " u'Night Calls',\n",
       " u'Night Charge',\n",
       " u'Intl Mins',\n",
       " u'Intl Calls',\n",
       " u'Intl Charge',\n",
       " u'CustServ Calls',\n",
       " u'Churn']"
      ]
     },
     "execution_count": 56,
     "metadata": {},
     "output_type": "execute_result"
    }
   ],
   "source": [
    "test.col_names"
   ]
  },
  {
   "cell_type": "code",
   "execution_count": 62,
   "metadata": {},
   "outputs": [
    {
     "name": "stdout",
     "output_type": "stream",
     "text": [
      "Collecting six==1.10\n",
      "  Downloading six-1.10.0-py2.py3-none-any.whl\n",
      "Installing collected packages: six\n",
      "  Found existing installation: six 1.8.0\n",
      "    Uninstalling six-1.8.0:\n",
      "      Successfully uninstalled six-1.8.0\n",
      "Successfully installed six-1.10.0\n",
      "Requirement already satisfied: matplotlib in /usr/local/lib/python2.7/dist-packages\n",
      "Requirement already satisfied: pytz in /usr/local/lib/python2.7/dist-packages (from matplotlib)\n",
      "Requirement already satisfied: six>=1.10 in /usr/local/lib/python2.7/dist-packages (from matplotlib)\n",
      "Requirement already satisfied: backports.functools-lru-cache in /usr/local/lib/python2.7/dist-packages (from matplotlib)\n",
      "Requirement already satisfied: pyparsing!=2.0.4,!=2.1.2,!=2.1.6,>=2.0.1 in /usr/local/lib/python2.7/dist-packages (from matplotlib)\n",
      "Requirement already satisfied: numpy>=1.7.1 in /usr/local/lib/python2.7/dist-packages (from matplotlib)\n",
      "Requirement already satisfied: python-dateutil>=2.0 in /usr/local/lib/python2.7/dist-packages (from matplotlib)\n",
      "Requirement already satisfied: cycler>=0.10 in /usr/local/lib/python2.7/dist-packages (from matplotlib)\n",
      "Requirement already satisfied: subprocess32 in /usr/local/lib/python2.7/dist-packages (from matplotlib)\n"
     ]
    }
   ],
   "source": [
    "!sudo pip install six==1.10\n"
   ]
  },
  {
   "cell_type": "code",
   "execution_count": 77,
   "metadata": {},
   "outputs": [],
   "source": [
    "#import matplotlib\n",
    "#bestModel = h2o.get_model(leaders[0, 0])\n",
    "#bestModel.partial_plot(data=test, cols=[\"Churn\"])"
   ]
  },
  {
   "cell_type": "markdown",
   "metadata": {
    "_datascience": {}
   },
   "source": [
    "# Confusion Matrix"
   ]
  },
  {
   "cell_type": "code",
   "execution_count": 43,
   "metadata": {
    "_datascience": {
     "keep": true
    }
   },
   "outputs": [
    {
     "data": {
      "text/html": [
       "<iframe id=\"igraph\" scrolling=\"no\" style=\"border:none;\" seamless=\"seamless\" src=\"https://plot.ly/~bretto777/3079.embed\" height=\"300px\" width=\"800px\"></iframe>"
      ],
      "text/plain": [
       "<plotly.tools.PlotlyDisplay object>"
      ]
     },
     "execution_count": 43,
     "metadata": {},
     "output_type": "execute_result"
    }
   ],
   "source": [
    "cm = h2o.get_model(leaders[1, 0]).confusion_matrix(xval=True)\n",
    "cm = cm.table.as_data_frame()\n",
    "cm\n",
    "confusionMatrix = ff.create_table(cm)\n",
    "confusionMatrix.layout.height=300\n",
    "confusionMatrix.layout.width=800\n",
    "confusionMatrix.layout.font.size=17\n",
    "py.iplot(confusionMatrix)"
   ]
  },
  {
   "cell_type": "markdown",
   "metadata": {
    "_datascience": {
     "keep": true
    }
   },
   "source": [
    "# Business Impact Matrix\n",
    "\n",
    "Weighting Predictions With a Dollar Value\n",
    "-   Correctly predicting retain: `+$5`\n",
    "-   Correctly predicting churn: `+$75`\n",
    "-   Incorrectly predicting retain: `-$150`\n",
    "-   Incorrectly predicting churn: `-$1.5`\n",
    "\n",
    "    "
   ]
  },
  {
   "cell_type": "code",
   "execution_count": 44,
   "metadata": {
    "_datascience": {
     "keep": true
    }
   },
   "outputs": [
    {
     "data": {
      "text/html": [
       "<iframe id=\"igraph\" scrolling=\"no\" style=\"border:none;\" seamless=\"seamless\" src=\"https://plot.ly/~bretto777/3081.embed\" height=\"300px\" width=\"800px\"></iframe>"
      ],
      "text/plain": [
       "<plotly.tools.PlotlyDisplay object>"
      ]
     },
     "execution_count": 44,
     "metadata": {},
     "output_type": "execute_result"
    }
   ],
   "source": [
    "CorrectPredictChurn = cm.loc[0,'Churn']\n",
    "CorrectPredictChurnImpact = 75\n",
    "cm1 = CorrectPredictChurn*CorrectPredictChurnImpact\n",
    "\n",
    "IncorrectPredictChurn = cm.loc[1,'Churn']\n",
    "IncorrectPredictChurnImpact = -5\n",
    "cm2 = IncorrectPredictChurn*IncorrectPredictChurnImpact\n",
    "\n",
    "IncorrectPredictRetain = cm.loc[0,'Retain']\n",
    "IncorrectPredictRetainImpact = -150\n",
    "cm3 = IncorrectPredictRetain*IncorrectPredictRetainImpact\n",
    "\n",
    "CorrectPredictRetain = cm.loc[0,'Retain']\n",
    "CorrectPredictRetainImpact = 5\n",
    "cm4 = IncorrectPredictRetain*CorrectPredictRetainImpact\n",
    "\n",
    "\n",
    "data_matrix = [['Business Impact', '($) Predicted Churn', '($) Predicted Retain', '($) Total'],\n",
    "               ['($) Actual Churn', cm1, cm3, '' ],\n",
    "               ['($) Actual Retain', cm2, cm4, ''],\n",
    "               ['($) Total', cm1+cm2, cm3+cm4, cm1+cm2+cm3+cm4]]\n",
    "\n",
    "impactMatrix = ff.create_table(data_matrix, height_constant=20, hoverinfo='weight')\n",
    "impactMatrix.layout.height=300\n",
    "impactMatrix.layout.width=800\n",
    "impactMatrix.layout.font.size=17\n",
    "py.iplot(impactMatrix)"
   ]
  },
  {
   "cell_type": "code",
   "execution_count": 45,
   "metadata": {
    "_datascience": {
     "keep": true
    }
   },
   "outputs": [
    {
     "name": "stdout",
     "output_type": "stream",
     "text": [
      "Total customers evaluated: 2132\n"
     ]
    }
   ],
   "source": [
    "print(\"Total customers evaluated: 2132\")"
   ]
  },
  {
   "cell_type": "code",
   "execution_count": 46,
   "metadata": {
    "_datascience": {
     "keep": true
    }
   },
   "outputs": [
    {
     "name": "stdout",
     "output_type": "stream",
     "text": [
      "Total value created by the model: $5500.0\n"
     ]
    }
   ],
   "source": [
    "print(\"Total value created by the model: $\" + str(cm1+cm2+cm3+cm4))"
   ]
  },
  {
   "cell_type": "code",
   "execution_count": 47,
   "metadata": {
    "_datascience": {
     "keep": true
    },
    "scrolled": true
   },
   "outputs": [
    {
     "name": "stdout",
     "output_type": "stream",
     "text": [
      "Total value per customer: $2.58\n"
     ]
    }
   ],
   "source": [
    "print(\"Total value per customer: $\" +str(round(((cm1+cm2+cm3+cm4)/2132),3)))"
   ]
  },
  {
   "cell_type": "code",
   "execution_count": 48,
   "metadata": {},
   "outputs": [],
   "source": [
    "%%capture\n",
    "# Save the best model\n",
    "\n",
    "path = h2o.save_model(model=h2o.get_model(leaders[0, 0]), force=True)\n",
    "os.rename(h2o.get_model(leaders[0, 0]).model_id, \"AutoML-leader\")    "
   ]
  },
  {
   "cell_type": "code",
   "execution_count": 49,
   "metadata": {},
   "outputs": [],
   "source": [
    "%%capture\n",
    "LoadedEnsemble = h2o.load_model(path=\"AutoML-leader\")\n",
    "print(LoadedEnsemble)"
   ]
  }
 ],
 "metadata": {
  "_datascience": {
   "notebookId": 608,
   "post_id": "AVs_WCYcdxOghr0gw_3H"
  },
  "kernelspec": {
   "display_name": "Python 2",
   "language": "python",
   "name": "python2"
  },
  "language_info": {
   "codemirror_mode": {
    "name": "ipython",
    "version": 2
   },
   "file_extension": ".py",
   "mimetype": "text/x-python",
   "name": "python",
   "nbconvert_exporter": "python",
   "pygments_lexer": "ipython2",
   "version": "2.7.9"
  }
 },
 "nbformat": 4,
 "nbformat_minor": 2
}
